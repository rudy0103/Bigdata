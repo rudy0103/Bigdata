{
 "cells": [
  {
   "cell_type": "markdown",
   "metadata": {},
   "source": [
    "# 회귀회귀회귀"
   ]
  },
  {
   "cell_type": "code",
   "execution_count": 1,
   "metadata": {},
   "outputs": [],
   "source": [
    "#3. 얘는 결정트리 회귀\n",
    "tree_final = DecisionTreeRegressor(min_samples_leaf=8, min_samples_split=20, max_depth=4, random_state=1234)\n",
    "tree_final.fit(df_train_x,df_train_y)\n",
    "# 생성한 Final모델 정확도 측정임\n",
    "print(\"Accuracy on traing set:{:.3f}\".format(tree_final.score(df_train_x,df_train_y)))\n",
    "print(\"Accuracy on test set:{:.3f}\".format(tree_final.score(df_test_x,df_test_y)))"
   ]
  },
  {
   "cell_type": "code",
   "execution_count": null,
   "metadata": {},
   "outputs": [],
   "source": [
    "# 얘는 랜덤포레스트 회귀\n",
    "rf_final = RFR(n_estimators = 100, min_samples_leaf=6, min_samples_split=14, max_depth=4, random_state=1234)\n",
    "rf_final.fit(df_train_x,df_train_y)\n",
    "print(\"Score on Training set:{:.3}\".format(rf_final.score(df_train_x,df_train_y)))\n",
    "print(\"Score on Test set:{:.3}\".format(rf_final.score(df_test_x,df_test_y)))"
   ]
  },
  {
   "cell_type": "code",
   "execution_count": null,
   "metadata": {},
   "outputs": [],
   "source": [
    "# 얘는 Gradient Boosting 회귀\n",
    "gb_final = GBR(n_estimators = 30, min_samples_leaf=11, min_samples_split=22, max_depth=4,learning_rate=0.1, random_state=1234)\n",
    "gb_final.fit(df_train_x,df_train_y)\n",
    "print(\"Score on Training set:{:.3}\".format(gb_final.score(df_train_x,df_train_y)))\n",
    "print(\"Score on Test set:{:.3}\".format(gb_final.score(df_test_x,df_test_y)))"
   ]
  },
  {
   "cell_type": "code",
   "execution_count": null,
   "metadata": {},
   "outputs": [],
   "source": []
  },
  {
   "cell_type": "markdown",
   "metadata": {},
   "source": [
    "# 분류분류분류"
   ]
  },
  {
   "cell_type": "code",
   "execution_count": null,
   "metadata": {},
   "outputs": [],
   "source": [
    "# 얘는 결정트리 분류임 하이퍼 파라미터 조정하기\n",
    "tree_final = DecisionTreeClassifier(min_samples_leaf=9, min_samples_split=20, max_depth=4, random_state=1234)\n",
    "tree_final.fit(df_train_x,df_train_y)\n",
    "# 생성한 Final모델 정확도 측정임\n",
    "print(\"Accuracy on traing set:{:.3f}\".format(tree_final.score(df_train_x,df_train_y)))\n",
    "print(\"Accuracy on test set:{:.3f}\".format(tree_final.score(df_test_x,df_test_y)))"
   ]
  },
  {
   "cell_type": "code",
   "execution_count": null,
   "metadata": {},
   "outputs": [],
   "source": [
    "### 얘는 랜덤포레스트 분류 n_estimators 추가됨\n",
    "rf_final = RandomForestClassifier(min_samples_leaf=20,  max_depth=4,n_estimators=40,\n",
    "                                  random_state=1234)\n",
    "rf_final.fit(df_train_x,df_train_y)\n",
    "y_pred = rf_final.predict(df_test_x)\n",
    "\n",
    "print(\"Accuracy on traing set:{:.3f}\".format(rf_final.score(df_train_x,df_train_y)))\n",
    "print(\"Accuracy on test set:{:.3f}\".format(rf_final.score(df_test_x,df_test_y)))\n",
    "print(\"Confusion matrix:\\n{}\".format(confusion_matrix(df_test_y,y_pred)))"
   ]
  },
  {
   "cell_type": "code",
   "execution_count": null,
   "metadata": {},
   "outputs": [],
   "source": []
  },
  {
   "cell_type": "code",
   "execution_count": null,
   "metadata": {},
   "outputs": [],
   "source": []
  }
 ],
 "metadata": {
  "kernelspec": {
   "display_name": "Python 3",
   "language": "python",
   "name": "python3"
  },
  "language_info": {
   "codemirror_mode": {
    "name": "ipython",
    "version": 3
   },
   "file_extension": ".py",
   "mimetype": "text/x-python",
   "name": "python",
   "nbconvert_exporter": "python",
   "pygments_lexer": "ipython3",
   "version": "3.8.3"
  }
 },
 "nbformat": 4,
 "nbformat_minor": 4
}
