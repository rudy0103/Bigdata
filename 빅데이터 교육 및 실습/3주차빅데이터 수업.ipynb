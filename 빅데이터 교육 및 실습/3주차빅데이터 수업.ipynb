{
 "cells": [
  {
   "cell_type": "markdown",
   "metadata": {},
   "source": [
    "# YW"
   ]
  },
  {
   "cell_type": "code",
   "execution_count": 8,
   "metadata": {},
   "outputs": [],
   "source": [
    "# python을 이용한 데이터 정제 엽습 \n",
    " \n",
    "import pandas as pd \n",
    "import numpy as np\n",
    "import matplotlib\n",
    "import matplotlib.pyplot as plt\n",
    "\n",
    "from sklearn.preprocessing import scale, minmax_scale, robust_scale\n",
    "\n",
    "%matplotlib inline\n",
    "\n",
    "matplotlib.rc('font', family='malgun gothic')\n",
    "plt.rc('font', family='malgun gothic')\n",
    "\n",
    "plt.rcParams['axes.unicode_minus']= False"
   ]
  },
  {
   "cell_type": "code",
   "execution_count": 10,
   "metadata": {},
   "outputs": [
    {
     "data": {
      "text/html": [
       "<div>\n",
       "<style scoped>\n",
       "    .dataframe tbody tr th:only-of-type {\n",
       "        vertical-align: middle;\n",
       "    }\n",
       "\n",
       "    .dataframe tbody tr th {\n",
       "        vertical-align: top;\n",
       "    }\n",
       "\n",
       "    .dataframe thead th {\n",
       "        text-align: right;\n",
       "    }\n",
       "</style>\n",
       "<table border=\"1\" class=\"dataframe\">\n",
       "  <thead>\n",
       "    <tr style=\"text-align: right;\">\n",
       "      <th></th>\n",
       "      <th>NAME</th>\n",
       "      <th>GENDER</th>\n",
       "      <th>AGE</th>\n",
       "      <th>AGEGROUP</th>\n",
       "      <th>WEIGHT</th>\n",
       "      <th>OXY</th>\n",
       "      <th>RUNTIME</th>\n",
       "      <th>RUNPULSE</th>\n",
       "      <th>RSTPULSE</th>\n",
       "      <th>MAXPULSE</th>\n",
       "    </tr>\n",
       "  </thead>\n",
       "  <tbody>\n",
       "    <tr>\n",
       "      <th>0</th>\n",
       "      <td>Donna</td>\n",
       "      <td>여성</td>\n",
       "      <td>42</td>\n",
       "      <td>40대</td>\n",
       "      <td>68.15</td>\n",
       "      <td>59.571</td>\n",
       "      <td>8.17</td>\n",
       "      <td>166</td>\n",
       "      <td>40</td>\n",
       "      <td>172</td>\n",
       "    </tr>\n",
       "    <tr>\n",
       "      <th>1</th>\n",
       "      <td>Gracie</td>\n",
       "      <td>NaN</td>\n",
       "      <td>38</td>\n",
       "      <td>30대</td>\n",
       "      <td>81.87</td>\n",
       "      <td>60.055</td>\n",
       "      <td>8.63</td>\n",
       "      <td>170</td>\n",
       "      <td>48</td>\n",
       "      <td>186</td>\n",
       "    </tr>\n",
       "    <tr>\n",
       "      <th>2</th>\n",
       "      <td>Luanne</td>\n",
       "      <td>여성</td>\n",
       "      <td>43</td>\n",
       "      <td>40대</td>\n",
       "      <td>85.84</td>\n",
       "      <td>54.297</td>\n",
       "      <td>8.65</td>\n",
       "      <td>156</td>\n",
       "      <td>45</td>\n",
       "      <td>168</td>\n",
       "    </tr>\n",
       "    <tr>\n",
       "      <th>3</th>\n",
       "      <td>Mimi</td>\n",
       "      <td>여성</td>\n",
       "      <td>50</td>\n",
       "      <td>50대</td>\n",
       "      <td>70.87</td>\n",
       "      <td>54.625</td>\n",
       "      <td>8.92</td>\n",
       "      <td>146</td>\n",
       "      <td>48</td>\n",
       "      <td>155</td>\n",
       "    </tr>\n",
       "    <tr>\n",
       "      <th>4</th>\n",
       "      <td>Chris</td>\n",
       "      <td>남성</td>\n",
       "      <td>49</td>\n",
       "      <td>40대</td>\n",
       "      <td>NaN</td>\n",
       "      <td>49.156</td>\n",
       "      <td>8.95</td>\n",
       "      <td>180</td>\n",
       "      <td>44</td>\n",
       "      <td>185</td>\n",
       "    </tr>\n",
       "  </tbody>\n",
       "</table>\n",
       "</div>"
      ],
      "text/plain": [
       "     NAME GENDER  AGE AGEGROUP  WEIGHT     OXY  RUNTIME  RUNPULSE  RSTPULSE  \\\n",
       "0   Donna     여성   42      40대   68.15  59.571     8.17       166        40   \n",
       "1  Gracie    NaN   38      30대   81.87  60.055     8.63       170        48   \n",
       "2  Luanne     여성   43      40대   85.84  54.297     8.65       156        45   \n",
       "3    Mimi     여성   50      50대   70.87  54.625     8.92       146        48   \n",
       "4   Chris     남성   49      40대     NaN  49.156     8.95       180        44   \n",
       "\n",
       "   MAXPULSE  \n",
       "0       172  \n",
       "1       186  \n",
       "2       168  \n",
       "3       155  \n",
       "4       185  "
      ]
     },
     "execution_count": 10,
     "metadata": {},
     "output_type": "execute_result"
    }
   ],
   "source": [
    "# 데이터 불러오기 \n",
    "\n",
    "df_raw = pd.read_csv('./FITNESS_결측.csv',engine='python', encoding=\"cp949\")\n",
    "df_raw.head()\n"
   ]
  },
  {
   "cell_type": "code",
   "execution_count": 15,
   "metadata": {},
   "outputs": [
    {
     "data": {
      "text/html": [
       "<div>\n",
       "<style scoped>\n",
       "    .dataframe tbody tr th:only-of-type {\n",
       "        vertical-align: middle;\n",
       "    }\n",
       "\n",
       "    .dataframe tbody tr th {\n",
       "        vertical-align: top;\n",
       "    }\n",
       "\n",
       "    .dataframe thead th {\n",
       "        text-align: right;\n",
       "    }\n",
       "</style>\n",
       "<table border=\"1\" class=\"dataframe\">\n",
       "  <thead>\n",
       "    <tr style=\"text-align: right;\">\n",
       "      <th></th>\n",
       "      <th>NAME</th>\n",
       "      <th>GENDER</th>\n",
       "      <th>AGE</th>\n",
       "      <th>AGEGROUP</th>\n",
       "      <th>WEIGHT</th>\n",
       "      <th>OXY</th>\n",
       "      <th>RUNTIME</th>\n",
       "      <th>RUNPULSE</th>\n",
       "      <th>RSTPULSE</th>\n",
       "      <th>MAXPULSE</th>\n",
       "    </tr>\n",
       "  </thead>\n",
       "  <tbody>\n",
       "    <tr>\n",
       "      <th>0</th>\n",
       "      <td>False</td>\n",
       "      <td>False</td>\n",
       "      <td>False</td>\n",
       "      <td>False</td>\n",
       "      <td>False</td>\n",
       "      <td>False</td>\n",
       "      <td>False</td>\n",
       "      <td>False</td>\n",
       "      <td>False</td>\n",
       "      <td>False</td>\n",
       "    </tr>\n",
       "    <tr>\n",
       "      <th>1</th>\n",
       "      <td>False</td>\n",
       "      <td>True</td>\n",
       "      <td>False</td>\n",
       "      <td>False</td>\n",
       "      <td>False</td>\n",
       "      <td>False</td>\n",
       "      <td>False</td>\n",
       "      <td>False</td>\n",
       "      <td>False</td>\n",
       "      <td>False</td>\n",
       "    </tr>\n",
       "    <tr>\n",
       "      <th>2</th>\n",
       "      <td>False</td>\n",
       "      <td>False</td>\n",
       "      <td>False</td>\n",
       "      <td>False</td>\n",
       "      <td>False</td>\n",
       "      <td>False</td>\n",
       "      <td>False</td>\n",
       "      <td>False</td>\n",
       "      <td>False</td>\n",
       "      <td>False</td>\n",
       "    </tr>\n",
       "    <tr>\n",
       "      <th>3</th>\n",
       "      <td>False</td>\n",
       "      <td>False</td>\n",
       "      <td>False</td>\n",
       "      <td>False</td>\n",
       "      <td>False</td>\n",
       "      <td>False</td>\n",
       "      <td>False</td>\n",
       "      <td>False</td>\n",
       "      <td>False</td>\n",
       "      <td>False</td>\n",
       "    </tr>\n",
       "    <tr>\n",
       "      <th>4</th>\n",
       "      <td>False</td>\n",
       "      <td>False</td>\n",
       "      <td>False</td>\n",
       "      <td>False</td>\n",
       "      <td>True</td>\n",
       "      <td>False</td>\n",
       "      <td>False</td>\n",
       "      <td>False</td>\n",
       "      <td>False</td>\n",
       "      <td>False</td>\n",
       "    </tr>\n",
       "  </tbody>\n",
       "</table>\n",
       "</div>"
      ],
      "text/plain": [
       "    NAME  GENDER    AGE  AGEGROUP  WEIGHT    OXY  RUNTIME  RUNPULSE  RSTPULSE  \\\n",
       "0  False   False  False     False   False  False    False     False     False   \n",
       "1  False    True  False     False   False  False    False     False     False   \n",
       "2  False   False  False     False   False  False    False     False     False   \n",
       "3  False   False  False     False   False  False    False     False     False   \n",
       "4  False   False  False     False    True  False    False     False     False   \n",
       "\n",
       "   MAXPULSE  \n",
       "0     False  \n",
       "1     False  \n",
       "2     False  \n",
       "3     False  \n",
       "4     False  "
      ]
     },
     "execution_count": 15,
     "metadata": {},
     "output_type": "execute_result"
    }
   ],
   "source": [
    "# 결측치 확인\n",
    "df_raw.isnull().head()\n"
   ]
  },
  {
   "cell_type": "code",
   "execution_count": 16,
   "metadata": {},
   "outputs": [
    {
     "data": {
      "text/html": [
       "<div>\n",
       "<style scoped>\n",
       "    .dataframe tbody tr th:only-of-type {\n",
       "        vertical-align: middle;\n",
       "    }\n",
       "\n",
       "    .dataframe tbody tr th {\n",
       "        vertical-align: top;\n",
       "    }\n",
       "\n",
       "    .dataframe thead th {\n",
       "        text-align: right;\n",
       "    }\n",
       "</style>\n",
       "<table border=\"1\" class=\"dataframe\">\n",
       "  <thead>\n",
       "    <tr style=\"text-align: right;\">\n",
       "      <th></th>\n",
       "      <th>NAME</th>\n",
       "      <th>GENDER</th>\n",
       "      <th>AGE</th>\n",
       "      <th>AGEGROUP</th>\n",
       "      <th>WEIGHT</th>\n",
       "      <th>OXY</th>\n",
       "      <th>RUNTIME</th>\n",
       "      <th>RUNPULSE</th>\n",
       "      <th>RSTPULSE</th>\n",
       "      <th>MAXPULSE</th>\n",
       "    </tr>\n",
       "  </thead>\n",
       "  <tbody>\n",
       "    <tr>\n",
       "      <th>0</th>\n",
       "      <td>False</td>\n",
       "      <td>False</td>\n",
       "      <td>False</td>\n",
       "      <td>False</td>\n",
       "      <td>False</td>\n",
       "      <td>False</td>\n",
       "      <td>False</td>\n",
       "      <td>False</td>\n",
       "      <td>False</td>\n",
       "      <td>False</td>\n",
       "    </tr>\n",
       "    <tr>\n",
       "      <th>1</th>\n",
       "      <td>False</td>\n",
       "      <td>True</td>\n",
       "      <td>False</td>\n",
       "      <td>False</td>\n",
       "      <td>False</td>\n",
       "      <td>False</td>\n",
       "      <td>False</td>\n",
       "      <td>False</td>\n",
       "      <td>False</td>\n",
       "      <td>False</td>\n",
       "    </tr>\n",
       "    <tr>\n",
       "      <th>2</th>\n",
       "      <td>False</td>\n",
       "      <td>False</td>\n",
       "      <td>False</td>\n",
       "      <td>False</td>\n",
       "      <td>False</td>\n",
       "      <td>False</td>\n",
       "      <td>False</td>\n",
       "      <td>False</td>\n",
       "      <td>False</td>\n",
       "      <td>False</td>\n",
       "    </tr>\n",
       "    <tr>\n",
       "      <th>3</th>\n",
       "      <td>False</td>\n",
       "      <td>False</td>\n",
       "      <td>False</td>\n",
       "      <td>False</td>\n",
       "      <td>False</td>\n",
       "      <td>False</td>\n",
       "      <td>False</td>\n",
       "      <td>False</td>\n",
       "      <td>False</td>\n",
       "      <td>False</td>\n",
       "    </tr>\n",
       "    <tr>\n",
       "      <th>4</th>\n",
       "      <td>False</td>\n",
       "      <td>False</td>\n",
       "      <td>False</td>\n",
       "      <td>False</td>\n",
       "      <td>True</td>\n",
       "      <td>False</td>\n",
       "      <td>False</td>\n",
       "      <td>False</td>\n",
       "      <td>False</td>\n",
       "      <td>False</td>\n",
       "    </tr>\n",
       "  </tbody>\n",
       "</table>\n",
       "</div>"
      ],
      "text/plain": [
       "    NAME  GENDER    AGE  AGEGROUP  WEIGHT    OXY  RUNTIME  RUNPULSE  RSTPULSE  \\\n",
       "0  False   False  False     False   False  False    False     False     False   \n",
       "1  False    True  False     False   False  False    False     False     False   \n",
       "2  False   False  False     False   False  False    False     False     False   \n",
       "3  False   False  False     False   False  False    False     False     False   \n",
       "4  False   False  False     False    True  False    False     False     False   \n",
       "\n",
       "   MAXPULSE  \n",
       "0     False  \n",
       "1     False  \n",
       "2     False  \n",
       "3     False  \n",
       "4     False  "
      ]
     },
     "execution_count": 16,
     "metadata": {},
     "output_type": "execute_result"
    }
   ],
   "source": [
    "df_raw.isna().head()"
   ]
  },
  {
   "cell_type": "code",
   "execution_count": 17,
   "metadata": {},
   "outputs": [
    {
     "data": {
      "text/plain": [
       "NAME        0\n",
       "GENDER      1\n",
       "AGE         0\n",
       "AGEGROUP    0\n",
       "WEIGHT      2\n",
       "OXY         0\n",
       "RUNTIME     0\n",
       "RUNPULSE    0\n",
       "RSTPULSE    0\n",
       "MAXPULSE    0\n",
       "dtype: int64"
      ]
     },
     "execution_count": 17,
     "metadata": {},
     "output_type": "execute_result"
    }
   ],
   "source": [
    "#결측치 true  현황요약\n",
    "\n",
    "df_raw.isnull().sum()"
   ]
  },
  {
   "cell_type": "code",
   "execution_count": 18,
   "metadata": {},
   "outputs": [
    {
     "data": {
      "text/html": [
       "<div>\n",
       "<style scoped>\n",
       "    .dataframe tbody tr th:only-of-type {\n",
       "        vertical-align: middle;\n",
       "    }\n",
       "\n",
       "    .dataframe tbody tr th {\n",
       "        vertical-align: top;\n",
       "    }\n",
       "\n",
       "    .dataframe thead th {\n",
       "        text-align: right;\n",
       "    }\n",
       "</style>\n",
       "<table border=\"1\" class=\"dataframe\">\n",
       "  <thead>\n",
       "    <tr style=\"text-align: right;\">\n",
       "      <th></th>\n",
       "      <th>NAME</th>\n",
       "      <th>GENDER</th>\n",
       "      <th>AGE</th>\n",
       "      <th>AGEGROUP</th>\n",
       "      <th>WEIGHT</th>\n",
       "      <th>OXY</th>\n",
       "      <th>RUNTIME</th>\n",
       "      <th>RUNPULSE</th>\n",
       "      <th>RSTPULSE</th>\n",
       "      <th>MAXPULSE</th>\n",
       "    </tr>\n",
       "  </thead>\n",
       "  <tbody>\n",
       "    <tr>\n",
       "      <th>0</th>\n",
       "      <td>Donna</td>\n",
       "      <td>여성</td>\n",
       "      <td>42</td>\n",
       "      <td>40대</td>\n",
       "      <td>68.15</td>\n",
       "      <td>59.571</td>\n",
       "      <td>8.17</td>\n",
       "      <td>166</td>\n",
       "      <td>40</td>\n",
       "      <td>172</td>\n",
       "    </tr>\n",
       "    <tr>\n",
       "      <th>1</th>\n",
       "      <td>Gracie</td>\n",
       "      <td>여성</td>\n",
       "      <td>38</td>\n",
       "      <td>30대</td>\n",
       "      <td>81.87</td>\n",
       "      <td>60.055</td>\n",
       "      <td>8.63</td>\n",
       "      <td>170</td>\n",
       "      <td>48</td>\n",
       "      <td>186</td>\n",
       "    </tr>\n",
       "    <tr>\n",
       "      <th>2</th>\n",
       "      <td>Luanne</td>\n",
       "      <td>여성</td>\n",
       "      <td>43</td>\n",
       "      <td>40대</td>\n",
       "      <td>85.84</td>\n",
       "      <td>54.297</td>\n",
       "      <td>8.65</td>\n",
       "      <td>156</td>\n",
       "      <td>45</td>\n",
       "      <td>168</td>\n",
       "    </tr>\n",
       "    <tr>\n",
       "      <th>3</th>\n",
       "      <td>Mimi</td>\n",
       "      <td>여성</td>\n",
       "      <td>50</td>\n",
       "      <td>50대</td>\n",
       "      <td>70.87</td>\n",
       "      <td>54.625</td>\n",
       "      <td>8.92</td>\n",
       "      <td>146</td>\n",
       "      <td>48</td>\n",
       "      <td>155</td>\n",
       "    </tr>\n",
       "    <tr>\n",
       "      <th>4</th>\n",
       "      <td>Chris</td>\n",
       "      <td>남성</td>\n",
       "      <td>49</td>\n",
       "      <td>40대</td>\n",
       "      <td>NaN</td>\n",
       "      <td>49.156</td>\n",
       "      <td>8.95</td>\n",
       "      <td>180</td>\n",
       "      <td>44</td>\n",
       "      <td>185</td>\n",
       "    </tr>\n",
       "  </tbody>\n",
       "</table>\n",
       "</div>"
      ],
      "text/plain": [
       "     NAME GENDER  AGE AGEGROUP  WEIGHT     OXY  RUNTIME  RUNPULSE  RSTPULSE  \\\n",
       "0   Donna     여성   42      40대   68.15  59.571     8.17       166        40   \n",
       "1  Gracie     여성   38      30대   81.87  60.055     8.63       170        48   \n",
       "2  Luanne     여성   43      40대   85.84  54.297     8.65       156        45   \n",
       "3    Mimi     여성   50      50대   70.87  54.625     8.92       146        48   \n",
       "4   Chris     남성   49      40대     NaN  49.156     8.95       180        44   \n",
       "\n",
       "   MAXPULSE  \n",
       "0       172  \n",
       "1       186  \n",
       "2       168  \n",
       "3       155  \n",
       "4       185  "
      ]
     },
     "execution_count": 18,
     "metadata": {},
     "output_type": "execute_result"
    }
   ],
   "source": [
    "# 범주형 변수 결측치 처리 \n",
    "\n",
    "df_raw['GENDER'].fillna(\"여성\", inplace= True)\n",
    "df_raw.head()"
   ]
  },
  {
   "cell_type": "code",
   "execution_count": 19,
   "metadata": {},
   "outputs": [
    {
     "data": {
      "text/plain": [
       "GENDER\n",
       "남성    82.433077\n",
       "여성    72.908750\n",
       "Name: WEIGHT, dtype: float64"
      ]
     },
     "execution_count": 19,
     "metadata": {},
     "output_type": "execute_result"
    }
   ],
   "source": [
    "# 숫자형 결측치 처리 , agg 집계함수\n",
    "\n",
    "df_raw.groupby(\"GENDER\")[\"WEIGHT\"].agg(\"mean\")"
   ]
  },
  {
   "cell_type": "code",
   "execution_count": 20,
   "metadata": {},
   "outputs": [
    {
     "data": {
      "text/html": [
       "<div>\n",
       "<style scoped>\n",
       "    .dataframe tbody tr th:only-of-type {\n",
       "        vertical-align: middle;\n",
       "    }\n",
       "\n",
       "    .dataframe tbody tr th {\n",
       "        vertical-align: top;\n",
       "    }\n",
       "\n",
       "    .dataframe thead th {\n",
       "        text-align: right;\n",
       "    }\n",
       "</style>\n",
       "<table border=\"1\" class=\"dataframe\">\n",
       "  <thead>\n",
       "    <tr style=\"text-align: right;\">\n",
       "      <th></th>\n",
       "      <th>NAME</th>\n",
       "      <th>GENDER</th>\n",
       "      <th>AGE</th>\n",
       "      <th>AGEGROUP</th>\n",
       "      <th>WEIGHT</th>\n",
       "      <th>OXY</th>\n",
       "      <th>RUNTIME</th>\n",
       "      <th>RUNPULSE</th>\n",
       "      <th>RSTPULSE</th>\n",
       "      <th>MAXPULSE</th>\n",
       "    </tr>\n",
       "  </thead>\n",
       "  <tbody>\n",
       "    <tr>\n",
       "      <th>0</th>\n",
       "      <td>Donna</td>\n",
       "      <td>여성</td>\n",
       "      <td>42</td>\n",
       "      <td>40대</td>\n",
       "      <td>68.150</td>\n",
       "      <td>59.571</td>\n",
       "      <td>8.17</td>\n",
       "      <td>166</td>\n",
       "      <td>40</td>\n",
       "      <td>172</td>\n",
       "    </tr>\n",
       "    <tr>\n",
       "      <th>1</th>\n",
       "      <td>Gracie</td>\n",
       "      <td>여성</td>\n",
       "      <td>38</td>\n",
       "      <td>30대</td>\n",
       "      <td>81.870</td>\n",
       "      <td>60.055</td>\n",
       "      <td>8.63</td>\n",
       "      <td>170</td>\n",
       "      <td>48</td>\n",
       "      <td>186</td>\n",
       "    </tr>\n",
       "    <tr>\n",
       "      <th>2</th>\n",
       "      <td>Luanne</td>\n",
       "      <td>여성</td>\n",
       "      <td>43</td>\n",
       "      <td>40대</td>\n",
       "      <td>85.840</td>\n",
       "      <td>54.297</td>\n",
       "      <td>8.65</td>\n",
       "      <td>156</td>\n",
       "      <td>45</td>\n",
       "      <td>168</td>\n",
       "    </tr>\n",
       "    <tr>\n",
       "      <th>3</th>\n",
       "      <td>Mimi</td>\n",
       "      <td>여성</td>\n",
       "      <td>50</td>\n",
       "      <td>50대</td>\n",
       "      <td>70.870</td>\n",
       "      <td>54.625</td>\n",
       "      <td>8.92</td>\n",
       "      <td>146</td>\n",
       "      <td>48</td>\n",
       "      <td>155</td>\n",
       "    </tr>\n",
       "    <tr>\n",
       "      <th>4</th>\n",
       "      <td>Chris</td>\n",
       "      <td>남성</td>\n",
       "      <td>49</td>\n",
       "      <td>40대</td>\n",
       "      <td>82.433</td>\n",
       "      <td>49.156</td>\n",
       "      <td>8.95</td>\n",
       "      <td>180</td>\n",
       "      <td>44</td>\n",
       "      <td>185</td>\n",
       "    </tr>\n",
       "  </tbody>\n",
       "</table>\n",
       "</div>"
      ],
      "text/plain": [
       "     NAME GENDER  AGE AGEGROUP  WEIGHT     OXY  RUNTIME  RUNPULSE  RSTPULSE  \\\n",
       "0   Donna     여성   42      40대  68.150  59.571     8.17       166        40   \n",
       "1  Gracie     여성   38      30대  81.870  60.055     8.63       170        48   \n",
       "2  Luanne     여성   43      40대  85.840  54.297     8.65       156        45   \n",
       "3    Mimi     여성   50      50대  70.870  54.625     8.92       146        48   \n",
       "4   Chris     남성   49      40대  82.433  49.156     8.95       180        44   \n",
       "\n",
       "   MAXPULSE  \n",
       "0       172  \n",
       "1       186  \n",
       "2       168  \n",
       "3       155  \n",
       "4       185  "
      ]
     },
     "execution_count": 20,
     "metadata": {},
     "output_type": "execute_result"
    }
   ],
   "source": [
    "#숫자형 결측치 처리,transform ,코드가 길거 행 바꿈필요시 \\\n",
    "\n",
    "df_raw[\"WEIGHT\"]=\\\n",
    "df_raw[\"WEIGHT\"].fillna(df_raw.groupby(\"GENDER\")[\"WEIGHT\"].transform(\"mean\")).round(3)\n",
    "df_raw.head()"
   ]
  },
  {
   "cell_type": "code",
   "execution_count": 21,
   "metadata": {},
   "outputs": [
    {
     "data": {
      "text/plain": [
       "<matplotlib.axes._subplots.AxesSubplot at 0x7f90decca0d0>"
      ]
     },
     "execution_count": 21,
     "metadata": {},
     "output_type": "execute_result"
    },
    {
     "name": "stderr",
     "output_type": "stream",
     "text": [
      "findfont: Font family ['malgun gothic'] not found. Falling back to DejaVu Sans.\n"
     ]
    },
    {
     "data": {
      "image/png": "[encoded data removed]",
      "text/plain": [
       "<Figure size 720x288 with 1 Axes>"
      ]
     },
     "metadata": {
      "needs_background": "light"
     },
     "output_type": "display_data"
    }
   ],
   "source": [
    "#boxplot  상자 수염도 figsize 그래프 크기\n",
    "\n",
    "df_raw.boxplot(figsize=(10,4))"
   ]
  },
  {
   "cell_type": "code",
   "execution_count": 23,
   "metadata": {},
   "outputs": [
    {
     "data": {
      "text/html": [
       "<div>\n",
       "<style scoped>\n",
       "    .dataframe tbody tr th:only-of-type {\n",
       "        vertical-align: middle;\n",
       "    }\n",
       "\n",
       "    .dataframe tbody tr th {\n",
       "        vertical-align: top;\n",
       "    }\n",
       "\n",
       "    .dataframe thead th {\n",
       "        text-align: right;\n",
       "    }\n",
       "</style>\n",
       "<table border=\"1\" class=\"dataframe\">\n",
       "  <thead>\n",
       "    <tr style=\"text-align: right;\">\n",
       "      <th></th>\n",
       "      <th>NAME</th>\n",
       "      <th>GENDER</th>\n",
       "      <th>AGE</th>\n",
       "      <th>AGEGROUP</th>\n",
       "      <th>WEIGHT</th>\n",
       "      <th>OXY</th>\n",
       "      <th>RUNTIME</th>\n",
       "      <th>RUNPULSE</th>\n",
       "      <th>RSTPULSE</th>\n",
       "      <th>MAXPULSE</th>\n",
       "    </tr>\n",
       "  </thead>\n",
       "  <tbody>\n",
       "    <tr>\n",
       "      <th>27</th>\n",
       "      <td>Mark</td>\n",
       "      <td>남성</td>\n",
       "      <td>57</td>\n",
       "      <td>50대</td>\n",
       "      <td>73.37</td>\n",
       "      <td>39.407</td>\n",
       "      <td>12.63</td>\n",
       "      <td>174</td>\n",
       "      <td>58</td>\n",
       "      <td>176</td>\n",
       "    </tr>\n",
       "    <tr>\n",
       "      <th>28</th>\n",
       "      <td>Steve</td>\n",
       "      <td>남성</td>\n",
       "      <td>54</td>\n",
       "      <td>50대</td>\n",
       "      <td>91.63</td>\n",
       "      <td>39.203</td>\n",
       "      <td>12.88</td>\n",
       "      <td>168</td>\n",
       "      <td>144</td>\n",
       "      <td>172</td>\n",
       "    </tr>\n",
       "    <tr>\n",
       "      <th>29</th>\n",
       "      <td>Vaughn</td>\n",
       "      <td>남성</td>\n",
       "      <td>44</td>\n",
       "      <td>40대</td>\n",
       "      <td>81.42</td>\n",
       "      <td>39.442</td>\n",
       "      <td>13.08</td>\n",
       "      <td>174</td>\n",
       "      <td>63</td>\n",
       "      <td>176</td>\n",
       "    </tr>\n",
       "  </tbody>\n",
       "</table>\n",
       "</div>"
      ],
      "text/plain": [
       "      NAME GENDER  AGE AGEGROUP  WEIGHT     OXY  RUNTIME  RUNPULSE  RSTPULSE  \\\n",
       "27    Mark     남성   57      50대   73.37  39.407    12.63       174        58   \n",
       "28   Steve     남성   54      50대   91.63  39.203    12.88       168       144   \n",
       "29  Vaughn     남성   44      40대   81.42  39.442    13.08       174        63   \n",
       "\n",
       "    MAXPULSE  \n",
       "27       176  \n",
       "28       172  \n",
       "29       176  "
      ]
     },
     "execution_count": 23,
     "metadata": {},
     "output_type": "execute_result"
    }
   ],
   "source": [
    "#RSTPULSE 변수에서 이상치 (100보다 큰값) 혹인: TRUE/FALSE 표시\n",
    "\n",
    "df_raw[\"RSTPULSE\"]>=100\n",
    "df_raw.loc[27:29]"
   ]
  },
  {
   "cell_type": "code",
   "execution_count": 27,
   "metadata": {},
   "outputs": [
    {
     "data": {
      "text/html": [
       "<div>\n",
       "<style scoped>\n",
       "    .dataframe tbody tr th:only-of-type {\n",
       "        vertical-align: middle;\n",
       "    }\n",
       "\n",
       "    .dataframe tbody tr th {\n",
       "        vertical-align: top;\n",
       "    }\n",
       "\n",
       "    .dataframe thead th {\n",
       "        text-align: right;\n",
       "    }\n",
       "</style>\n",
       "<table border=\"1\" class=\"dataframe\">\n",
       "  <thead>\n",
       "    <tr style=\"text-align: right;\">\n",
       "      <th></th>\n",
       "      <th>NAME</th>\n",
       "      <th>GENDER</th>\n",
       "      <th>AGE</th>\n",
       "      <th>AGEGROUP</th>\n",
       "      <th>WEIGHT</th>\n",
       "      <th>OXY</th>\n",
       "      <th>RUNTIME</th>\n",
       "      <th>RUNPULSE</th>\n",
       "      <th>RSTPULSE</th>\n",
       "      <th>MAXPULSE</th>\n",
       "    </tr>\n",
       "  </thead>\n",
       "  <tbody>\n",
       "    <tr>\n",
       "      <th>28</th>\n",
       "      <td>Steve</td>\n",
       "      <td>남성</td>\n",
       "      <td>54</td>\n",
       "      <td>50대</td>\n",
       "      <td>91.63</td>\n",
       "      <td>39.203</td>\n",
       "      <td>12.88</td>\n",
       "      <td>168</td>\n",
       "      <td>144</td>\n",
       "      <td>172</td>\n",
       "    </tr>\n",
       "  </tbody>\n",
       "</table>\n",
       "</div>"
      ],
      "text/plain": [
       "     NAME GENDER  AGE AGEGROUP  WEIGHT     OXY  RUNTIME  RUNPULSE  RSTPULSE  \\\n",
       "28  Steve     남성   54      50대   91.63  39.203    12.88       168       144   \n",
       "\n",
       "    MAXPULSE  \n",
       "28       172  "
      ]
     },
     "execution_count": 27,
     "metadata": {},
     "output_type": "execute_result"
    }
   ],
   "source": [
    "#조건 해당 자료 직접 확인\n",
    "\n",
    "df_raw[(df_raw['RSTPULSE']>=100)]\n"
   ]
  },
  {
   "cell_type": "code",
   "execution_count": 28,
   "metadata": {},
   "outputs": [
    {
     "data": {
      "text/html": [
       "<div>\n",
       "<style scoped>\n",
       "    .dataframe tbody tr th:only-of-type {\n",
       "        vertical-align: middle;\n",
       "    }\n",
       "\n",
       "    .dataframe tbody tr th {\n",
       "        vertical-align: top;\n",
       "    }\n",
       "\n",
       "    .dataframe thead th {\n",
       "        text-align: right;\n",
       "    }\n",
       "</style>\n",
       "<table border=\"1\" class=\"dataframe\">\n",
       "  <thead>\n",
       "    <tr style=\"text-align: right;\">\n",
       "      <th></th>\n",
       "      <th>NAME</th>\n",
       "      <th>GENDER</th>\n",
       "      <th>AGE</th>\n",
       "      <th>AGEGROUP</th>\n",
       "      <th>WEIGHT</th>\n",
       "      <th>OXY</th>\n",
       "      <th>RUNTIME</th>\n",
       "      <th>RUNPULSE</th>\n",
       "      <th>RSTPULSE</th>\n",
       "      <th>MAXPULSE</th>\n",
       "    </tr>\n",
       "  </thead>\n",
       "  <tbody>\n",
       "    <tr>\n",
       "      <th>28</th>\n",
       "      <td>Steve</td>\n",
       "      <td>남성</td>\n",
       "      <td>54</td>\n",
       "      <td>50대</td>\n",
       "      <td>91.63</td>\n",
       "      <td>39.203</td>\n",
       "      <td>12.88</td>\n",
       "      <td>168</td>\n",
       "      <td>144</td>\n",
       "      <td>172</td>\n",
       "    </tr>\n",
       "  </tbody>\n",
       "</table>\n",
       "</div>"
      ],
      "text/plain": [
       "     NAME GENDER  AGE AGEGROUP  WEIGHT     OXY  RUNTIME  RUNPULSE  RSTPULSE  \\\n",
       "28  Steve     남성   54      50대   91.63  39.203    12.88       168       144   \n",
       "\n",
       "    MAXPULSE  \n",
       "28       172  "
      ]
     },
     "execution_count": 28,
     "metadata": {},
     "output_type": "execute_result"
    }
   ],
   "source": [
    "#복수 조건: &(and), |(or)\n",
    "df_raw[(df_raw['RSTPULSE']>=100) & (df_raw['GENDER']==\"남성\")]"
   ]
  },
  {
   "cell_type": "code",
   "execution_count": 30,
   "metadata": {},
   "outputs": [
    {
     "data": {
      "text/html": [
       "<div>\n",
       "<style scoped>\n",
       "    .dataframe tbody tr th:only-of-type {\n",
       "        vertical-align: middle;\n",
       "    }\n",
       "\n",
       "    .dataframe tbody tr th {\n",
       "        vertical-align: top;\n",
       "    }\n",
       "\n",
       "    .dataframe thead th {\n",
       "        text-align: right;\n",
       "    }\n",
       "</style>\n",
       "<table border=\"1\" class=\"dataframe\">\n",
       "  <thead>\n",
       "    <tr style=\"text-align: right;\">\n",
       "      <th></th>\n",
       "      <th>NAME</th>\n",
       "      <th>GENDER</th>\n",
       "      <th>AGE</th>\n",
       "      <th>AGEGROUP</th>\n",
       "      <th>WEIGHT</th>\n",
       "      <th>OXY</th>\n",
       "      <th>RUNTIME</th>\n",
       "      <th>RUNPULSE</th>\n",
       "      <th>RSTPULSE</th>\n",
       "      <th>MAXPULSE</th>\n",
       "    </tr>\n",
       "  </thead>\n",
       "  <tbody>\n",
       "    <tr>\n",
       "      <th>0</th>\n",
       "      <td>Donna</td>\n",
       "      <td>여성</td>\n",
       "      <td>42</td>\n",
       "      <td>40대</td>\n",
       "      <td>68.150</td>\n",
       "      <td>59.571</td>\n",
       "      <td>8.17</td>\n",
       "      <td>166</td>\n",
       "      <td>40</td>\n",
       "      <td>172</td>\n",
       "    </tr>\n",
       "    <tr>\n",
       "      <th>1</th>\n",
       "      <td>Gracie</td>\n",
       "      <td>여성</td>\n",
       "      <td>38</td>\n",
       "      <td>30대</td>\n",
       "      <td>81.870</td>\n",
       "      <td>60.055</td>\n",
       "      <td>8.63</td>\n",
       "      <td>170</td>\n",
       "      <td>48</td>\n",
       "      <td>186</td>\n",
       "    </tr>\n",
       "    <tr>\n",
       "      <th>2</th>\n",
       "      <td>Luanne</td>\n",
       "      <td>여성</td>\n",
       "      <td>43</td>\n",
       "      <td>40대</td>\n",
       "      <td>85.840</td>\n",
       "      <td>54.297</td>\n",
       "      <td>8.65</td>\n",
       "      <td>156</td>\n",
       "      <td>45</td>\n",
       "      <td>168</td>\n",
       "    </tr>\n",
       "    <tr>\n",
       "      <th>3</th>\n",
       "      <td>Mimi</td>\n",
       "      <td>여성</td>\n",
       "      <td>50</td>\n",
       "      <td>50대</td>\n",
       "      <td>70.870</td>\n",
       "      <td>54.625</td>\n",
       "      <td>8.92</td>\n",
       "      <td>146</td>\n",
       "      <td>48</td>\n",
       "      <td>155</td>\n",
       "    </tr>\n",
       "    <tr>\n",
       "      <th>4</th>\n",
       "      <td>Chris</td>\n",
       "      <td>남성</td>\n",
       "      <td>49</td>\n",
       "      <td>40대</td>\n",
       "      <td>82.433</td>\n",
       "      <td>49.156</td>\n",
       "      <td>8.95</td>\n",
       "      <td>180</td>\n",
       "      <td>44</td>\n",
       "      <td>185</td>\n",
       "    </tr>\n",
       "    <tr>\n",
       "      <th>5</th>\n",
       "      <td>Allen</td>\n",
       "      <td>남성</td>\n",
       "      <td>38</td>\n",
       "      <td>30대</td>\n",
       "      <td>89.020</td>\n",
       "      <td>49.874</td>\n",
       "      <td>9.22</td>\n",
       "      <td>178</td>\n",
       "      <td>55</td>\n",
       "      <td>180</td>\n",
       "    </tr>\n",
       "    <tr>\n",
       "      <th>6</th>\n",
       "      <td>Nancy</td>\n",
       "      <td>여성</td>\n",
       "      <td>49</td>\n",
       "      <td>40대</td>\n",
       "      <td>76.320</td>\n",
       "      <td>48.673</td>\n",
       "      <td>9.40</td>\n",
       "      <td>186</td>\n",
       "      <td>56</td>\n",
       "      <td>188</td>\n",
       "    </tr>\n",
       "    <tr>\n",
       "      <th>7</th>\n",
       "      <td>Patty</td>\n",
       "      <td>여성</td>\n",
       "      <td>52</td>\n",
       "      <td>50대</td>\n",
       "      <td>76.320</td>\n",
       "      <td>45.441</td>\n",
       "      <td>9.63</td>\n",
       "      <td>164</td>\n",
       "      <td>48</td>\n",
       "      <td>166</td>\n",
       "    </tr>\n",
       "    <tr>\n",
       "      <th>8</th>\n",
       "      <td>Suzanne</td>\n",
       "      <td>여성</td>\n",
       "      <td>57</td>\n",
       "      <td>50대</td>\n",
       "      <td>59.080</td>\n",
       "      <td>50.545</td>\n",
       "      <td>9.93</td>\n",
       "      <td>148</td>\n",
       "      <td>49</td>\n",
       "      <td>155</td>\n",
       "    </tr>\n",
       "    <tr>\n",
       "      <th>9</th>\n",
       "      <td>Teresa</td>\n",
       "      <td>여성</td>\n",
       "      <td>51</td>\n",
       "      <td>50대</td>\n",
       "      <td>77.910</td>\n",
       "      <td>46.672</td>\n",
       "      <td>10.00</td>\n",
       "      <td>162</td>\n",
       "      <td>48</td>\n",
       "      <td>168</td>\n",
       "    </tr>\n",
       "    <tr>\n",
       "      <th>10</th>\n",
       "      <td>Bob</td>\n",
       "      <td>남성</td>\n",
       "      <td>39</td>\n",
       "      <td>30대</td>\n",
       "      <td>75.070</td>\n",
       "      <td>45.313</td>\n",
       "      <td>10.07</td>\n",
       "      <td>185</td>\n",
       "      <td>62</td>\n",
       "      <td>185</td>\n",
       "    </tr>\n",
       "    <tr>\n",
       "      <th>11</th>\n",
       "      <td>Harriett</td>\n",
       "      <td>여성</td>\n",
       "      <td>49</td>\n",
       "      <td>40대</td>\n",
       "      <td>73.370</td>\n",
       "      <td>50.388</td>\n",
       "      <td>10.08</td>\n",
       "      <td>168</td>\n",
       "      <td>67</td>\n",
       "      <td>168</td>\n",
       "    </tr>\n",
       "    <tr>\n",
       "      <th>12</th>\n",
       "      <td>Jane</td>\n",
       "      <td>여성</td>\n",
       "      <td>44</td>\n",
       "      <td>40대</td>\n",
       "      <td>73.030</td>\n",
       "      <td>50.541</td>\n",
       "      <td>10.13</td>\n",
       "      <td>168</td>\n",
       "      <td>45</td>\n",
       "      <td>168</td>\n",
       "    </tr>\n",
       "    <tr>\n",
       "      <th>13</th>\n",
       "      <td>Harold</td>\n",
       "      <td>남성</td>\n",
       "      <td>48</td>\n",
       "      <td>40대</td>\n",
       "      <td>91.630</td>\n",
       "      <td>46.774</td>\n",
       "      <td>10.25</td>\n",
       "      <td>162</td>\n",
       "      <td>48</td>\n",
       "      <td>164</td>\n",
       "    </tr>\n",
       "    <tr>\n",
       "      <th>14</th>\n",
       "      <td>Sammy</td>\n",
       "      <td>남성</td>\n",
       "      <td>54</td>\n",
       "      <td>50대</td>\n",
       "      <td>83.120</td>\n",
       "      <td>51.855</td>\n",
       "      <td>10.33</td>\n",
       "      <td>166</td>\n",
       "      <td>50</td>\n",
       "      <td>170</td>\n",
       "    </tr>\n",
       "    <tr>\n",
       "      <th>15</th>\n",
       "      <td>Buffy</td>\n",
       "      <td>여성</td>\n",
       "      <td>52</td>\n",
       "      <td>50대</td>\n",
       "      <td>73.710</td>\n",
       "      <td>45.790</td>\n",
       "      <td>10.47</td>\n",
       "      <td>186</td>\n",
       "      <td>59</td>\n",
       "      <td>188</td>\n",
       "    </tr>\n",
       "    <tr>\n",
       "      <th>16</th>\n",
       "      <td>Trent</td>\n",
       "      <td>남성</td>\n",
       "      <td>38</td>\n",
       "      <td>30대</td>\n",
       "      <td>82.780</td>\n",
       "      <td>47.467</td>\n",
       "      <td>10.50</td>\n",
       "      <td>170</td>\n",
       "      <td>53</td>\n",
       "      <td>172</td>\n",
       "    </tr>\n",
       "    <tr>\n",
       "      <th>17</th>\n",
       "      <td>Jackie</td>\n",
       "      <td>여성</td>\n",
       "      <td>47</td>\n",
       "      <td>40대</td>\n",
       "      <td>79.150</td>\n",
       "      <td>47.273</td>\n",
       "      <td>10.60</td>\n",
       "      <td>162</td>\n",
       "      <td>47</td>\n",
       "      <td>164</td>\n",
       "    </tr>\n",
       "    <tr>\n",
       "      <th>18</th>\n",
       "      <td>Ralph</td>\n",
       "      <td>남성</td>\n",
       "      <td>43</td>\n",
       "      <td>40대</td>\n",
       "      <td>82.433</td>\n",
       "      <td>49.091</td>\n",
       "      <td>10.85</td>\n",
       "      <td>162</td>\n",
       "      <td>64</td>\n",
       "      <td>170</td>\n",
       "    </tr>\n",
       "    <tr>\n",
       "      <th>19</th>\n",
       "      <td>Jack</td>\n",
       "      <td>남성</td>\n",
       "      <td>51</td>\n",
       "      <td>50대</td>\n",
       "      <td>69.630</td>\n",
       "      <td>40.836</td>\n",
       "      <td>10.95</td>\n",
       "      <td>168</td>\n",
       "      <td>57</td>\n",
       "      <td>172</td>\n",
       "    </tr>\n",
       "    <tr>\n",
       "      <th>20</th>\n",
       "      <td>Annie</td>\n",
       "      <td>여성</td>\n",
       "      <td>51</td>\n",
       "      <td>50대</td>\n",
       "      <td>67.250</td>\n",
       "      <td>45.118</td>\n",
       "      <td>11.08</td>\n",
       "      <td>172</td>\n",
       "      <td>48</td>\n",
       "      <td>172</td>\n",
       "    </tr>\n",
       "    <tr>\n",
       "      <th>21</th>\n",
       "      <td>Kate</td>\n",
       "      <td>여성</td>\n",
       "      <td>45</td>\n",
       "      <td>40대</td>\n",
       "      <td>66.450</td>\n",
       "      <td>44.754</td>\n",
       "      <td>11.12</td>\n",
       "      <td>176</td>\n",
       "      <td>51</td>\n",
       "      <td>176</td>\n",
       "    </tr>\n",
       "    <tr>\n",
       "      <th>22</th>\n",
       "      <td>Carl</td>\n",
       "      <td>남성</td>\n",
       "      <td>54</td>\n",
       "      <td>50대</td>\n",
       "      <td>79.380</td>\n",
       "      <td>46.080</td>\n",
       "      <td>11.17</td>\n",
       "      <td>156</td>\n",
       "      <td>62</td>\n",
       "      <td>165</td>\n",
       "    </tr>\n",
       "    <tr>\n",
       "      <th>23</th>\n",
       "      <td>Don</td>\n",
       "      <td>남성</td>\n",
       "      <td>44</td>\n",
       "      <td>40대</td>\n",
       "      <td>89.470</td>\n",
       "      <td>44.609</td>\n",
       "      <td>11.37</td>\n",
       "      <td>178</td>\n",
       "      <td>62</td>\n",
       "      <td>182</td>\n",
       "    </tr>\n",
       "    <tr>\n",
       "      <th>24</th>\n",
       "      <td>Effie</td>\n",
       "      <td>여성</td>\n",
       "      <td>48</td>\n",
       "      <td>40대</td>\n",
       "      <td>61.240</td>\n",
       "      <td>47.920</td>\n",
       "      <td>11.50</td>\n",
       "      <td>170</td>\n",
       "      <td>52</td>\n",
       "      <td>176</td>\n",
       "    </tr>\n",
       "    <tr>\n",
       "      <th>25</th>\n",
       "      <td>George</td>\n",
       "      <td>남성</td>\n",
       "      <td>37</td>\n",
       "      <td>30대</td>\n",
       "      <td>77.450</td>\n",
       "      <td>44.811</td>\n",
       "      <td>11.63</td>\n",
       "      <td>176</td>\n",
       "      <td>58</td>\n",
       "      <td>176</td>\n",
       "    </tr>\n",
       "    <tr>\n",
       "      <th>26</th>\n",
       "      <td>Iris</td>\n",
       "      <td>여성</td>\n",
       "      <td>39</td>\n",
       "      <td>30대</td>\n",
       "      <td>75.980</td>\n",
       "      <td>45.681</td>\n",
       "      <td>11.95</td>\n",
       "      <td>176</td>\n",
       "      <td>70</td>\n",
       "      <td>180</td>\n",
       "    </tr>\n",
       "    <tr>\n",
       "      <th>27</th>\n",
       "      <td>Mark</td>\n",
       "      <td>남성</td>\n",
       "      <td>57</td>\n",
       "      <td>50대</td>\n",
       "      <td>73.370</td>\n",
       "      <td>39.407</td>\n",
       "      <td>12.63</td>\n",
       "      <td>174</td>\n",
       "      <td>58</td>\n",
       "      <td>176</td>\n",
       "    </tr>\n",
       "    <tr>\n",
       "      <th>29</th>\n",
       "      <td>Vaughn</td>\n",
       "      <td>남성</td>\n",
       "      <td>44</td>\n",
       "      <td>40대</td>\n",
       "      <td>81.420</td>\n",
       "      <td>39.442</td>\n",
       "      <td>13.08</td>\n",
       "      <td>174</td>\n",
       "      <td>63</td>\n",
       "      <td>176</td>\n",
       "    </tr>\n",
       "    <tr>\n",
       "      <th>30</th>\n",
       "      <td>William</td>\n",
       "      <td>남성</td>\n",
       "      <td>45</td>\n",
       "      <td>40대</td>\n",
       "      <td>87.660</td>\n",
       "      <td>37.388</td>\n",
       "      <td>14.03</td>\n",
       "      <td>186</td>\n",
       "      <td>56</td>\n",
       "      <td>192</td>\n",
       "    </tr>\n",
       "  </tbody>\n",
       "</table>\n",
       "</div>"
      ],
      "text/plain": [
       "        NAME GENDER  AGE AGEGROUP  WEIGHT     OXY  RUNTIME  RUNPULSE  \\\n",
       "0      Donna     여성   42      40대  68.150  59.571     8.17       166   \n",
       "1     Gracie     여성   38      30대  81.870  60.055     8.63       170   \n",
       "2     Luanne     여성   43      40대  85.840  54.297     8.65       156   \n",
       "3       Mimi     여성   50      50대  70.870  54.625     8.92       146   \n",
       "4      Chris     남성   49      40대  82.433  49.156     8.95       180   \n",
       "5      Allen     남성   38      30대  89.020  49.874     9.22       178   \n",
       "6      Nancy     여성   49      40대  76.320  48.673     9.40       186   \n",
       "7      Patty     여성   52      50대  76.320  45.441     9.63       164   \n",
       "8    Suzanne     여성   57      50대  59.080  50.545     9.93       148   \n",
       "9     Teresa     여성   51      50대  77.910  46.672    10.00       162   \n",
       "10       Bob     남성   39      30대  75.070  45.313    10.07       185   \n",
       "11  Harriett     여성   49      40대  73.370  50.388    10.08       168   \n",
       "12      Jane     여성   44      40대  73.030  50.541    10.13       168   \n",
       "13    Harold     남성   48      40대  91.630  46.774    10.25       162   \n",
       "14     Sammy     남성   54      50대  83.120  51.855    10.33       166   \n",
       "15     Buffy     여성   52      50대  73.710  45.790    10.47       186   \n",
       "16     Trent     남성   38      30대  82.780  47.467    10.50       170   \n",
       "17    Jackie     여성   47      40대  79.150  47.273    10.60       162   \n",
       "18     Ralph     남성   43      40대  82.433  49.091    10.85       162   \n",
       "19      Jack     남성   51      50대  69.630  40.836    10.95       168   \n",
       "20     Annie     여성   51      50대  67.250  45.118    11.08       172   \n",
       "21      Kate     여성   45      40대  66.450  44.754    11.12       176   \n",
       "22      Carl     남성   54      50대  79.380  46.080    11.17       156   \n",
       "23       Don     남성   44      40대  89.470  44.609    11.37       178   \n",
       "24     Effie     여성   48      40대  61.240  47.920    11.50       170   \n",
       "25    George     남성   37      30대  77.450  44.811    11.63       176   \n",
       "26      Iris     여성   39      30대  75.980  45.681    11.95       176   \n",
       "27      Mark     남성   57      50대  73.370  39.407    12.63       174   \n",
       "29    Vaughn     남성   44      40대  81.420  39.442    13.08       174   \n",
       "30   William     남성   45      40대  87.660  37.388    14.03       186   \n",
       "\n",
       "    RSTPULSE  MAXPULSE  \n",
       "0         40       172  \n",
       "1         48       186  \n",
       "2         45       168  \n",
       "3         48       155  \n",
       "4         44       185  \n",
       "5         55       180  \n",
       "6         56       188  \n",
       "7         48       166  \n",
       "8         49       155  \n",
       "9         48       168  \n",
       "10        62       185  \n",
       "11        67       168  \n",
       "12        45       168  \n",
       "13        48       164  \n",
       "14        50       170  \n",
       "15        59       188  \n",
       "16        53       172  \n",
       "17        47       164  \n",
       "18        64       170  \n",
       "19        57       172  \n",
       "20        48       172  \n",
       "21        51       176  \n",
       "22        62       165  \n",
       "23        62       182  \n",
       "24        52       176  \n",
       "25        58       176  \n",
       "26        70       180  \n",
       "27        58       176  \n",
       "29        63       176  \n",
       "30        56       192  "
      ]
     },
     "execution_count": 30,
     "metadata": {},
     "output_type": "execute_result"
    }
   ],
   "source": [
    "#RSTPULSE 변수에서 이상치 제외\n",
    "df_fitness=df_raw[df_raw[\"RSTPULSE\"]<100]\n",
    "df_fitness"
   ]
  },
  {
   "cell_type": "code",
   "execution_count": 31,
   "metadata": {},
   "outputs": [
    {
     "data": {
      "text/html": [
       "<div>\n",
       "<style scoped>\n",
       "    .dataframe tbody tr th:only-of-type {\n",
       "        vertical-align: middle;\n",
       "    }\n",
       "\n",
       "    .dataframe tbody tr th {\n",
       "        vertical-align: top;\n",
       "    }\n",
       "\n",
       "    .dataframe thead th {\n",
       "        text-align: right;\n",
       "    }\n",
       "</style>\n",
       "<table border=\"1\" class=\"dataframe\">\n",
       "  <thead>\n",
       "    <tr style=\"text-align: right;\">\n",
       "      <th></th>\n",
       "      <th>NAME</th>\n",
       "      <th>GENDER</th>\n",
       "      <th>AGE</th>\n",
       "      <th>AGEGROUP</th>\n",
       "      <th>WEIGHT</th>\n",
       "      <th>OXY</th>\n",
       "      <th>RUNTIME</th>\n",
       "      <th>RUNPULSE</th>\n",
       "      <th>RSTPULSE</th>\n",
       "      <th>MAXPULSE</th>\n",
       "    </tr>\n",
       "  </thead>\n",
       "  <tbody>\n",
       "    <tr>\n",
       "      <th>0</th>\n",
       "      <td>Donna</td>\n",
       "      <td>여성</td>\n",
       "      <td>42</td>\n",
       "      <td>40대</td>\n",
       "      <td>68.150</td>\n",
       "      <td>59.571</td>\n",
       "      <td>8.17</td>\n",
       "      <td>166</td>\n",
       "      <td>40</td>\n",
       "      <td>172</td>\n",
       "    </tr>\n",
       "    <tr>\n",
       "      <th>1</th>\n",
       "      <td>Gracie</td>\n",
       "      <td>여성</td>\n",
       "      <td>38</td>\n",
       "      <td>30대</td>\n",
       "      <td>81.870</td>\n",
       "      <td>60.055</td>\n",
       "      <td>8.63</td>\n",
       "      <td>170</td>\n",
       "      <td>48</td>\n",
       "      <td>186</td>\n",
       "    </tr>\n",
       "    <tr>\n",
       "      <th>2</th>\n",
       "      <td>Luanne</td>\n",
       "      <td>여성</td>\n",
       "      <td>43</td>\n",
       "      <td>40대</td>\n",
       "      <td>85.840</td>\n",
       "      <td>54.297</td>\n",
       "      <td>8.65</td>\n",
       "      <td>156</td>\n",
       "      <td>45</td>\n",
       "      <td>168</td>\n",
       "    </tr>\n",
       "    <tr>\n",
       "      <th>3</th>\n",
       "      <td>Mimi</td>\n",
       "      <td>여성</td>\n",
       "      <td>50</td>\n",
       "      <td>50대</td>\n",
       "      <td>70.870</td>\n",
       "      <td>54.625</td>\n",
       "      <td>8.92</td>\n",
       "      <td>146</td>\n",
       "      <td>48</td>\n",
       "      <td>155</td>\n",
       "    </tr>\n",
       "    <tr>\n",
       "      <th>4</th>\n",
       "      <td>Chris</td>\n",
       "      <td>남성</td>\n",
       "      <td>49</td>\n",
       "      <td>40대</td>\n",
       "      <td>82.433</td>\n",
       "      <td>49.156</td>\n",
       "      <td>8.95</td>\n",
       "      <td>180</td>\n",
       "      <td>44</td>\n",
       "      <td>185</td>\n",
       "    </tr>\n",
       "    <tr>\n",
       "      <th>5</th>\n",
       "      <td>Allen</td>\n",
       "      <td>남성</td>\n",
       "      <td>38</td>\n",
       "      <td>30대</td>\n",
       "      <td>89.020</td>\n",
       "      <td>49.874</td>\n",
       "      <td>9.22</td>\n",
       "      <td>178</td>\n",
       "      <td>55</td>\n",
       "      <td>180</td>\n",
       "    </tr>\n",
       "    <tr>\n",
       "      <th>6</th>\n",
       "      <td>Nancy</td>\n",
       "      <td>여성</td>\n",
       "      <td>49</td>\n",
       "      <td>40대</td>\n",
       "      <td>76.320</td>\n",
       "      <td>48.673</td>\n",
       "      <td>9.40</td>\n",
       "      <td>186</td>\n",
       "      <td>56</td>\n",
       "      <td>188</td>\n",
       "    </tr>\n",
       "    <tr>\n",
       "      <th>7</th>\n",
       "      <td>Patty</td>\n",
       "      <td>여성</td>\n",
       "      <td>52</td>\n",
       "      <td>50대</td>\n",
       "      <td>76.320</td>\n",
       "      <td>45.441</td>\n",
       "      <td>9.63</td>\n",
       "      <td>164</td>\n",
       "      <td>48</td>\n",
       "      <td>166</td>\n",
       "    </tr>\n",
       "    <tr>\n",
       "      <th>8</th>\n",
       "      <td>Suzanne</td>\n",
       "      <td>여성</td>\n",
       "      <td>57</td>\n",
       "      <td>50대</td>\n",
       "      <td>59.080</td>\n",
       "      <td>50.545</td>\n",
       "      <td>9.93</td>\n",
       "      <td>148</td>\n",
       "      <td>49</td>\n",
       "      <td>155</td>\n",
       "    </tr>\n",
       "    <tr>\n",
       "      <th>9</th>\n",
       "      <td>Teresa</td>\n",
       "      <td>여성</td>\n",
       "      <td>51</td>\n",
       "      <td>50대</td>\n",
       "      <td>77.910</td>\n",
       "      <td>46.672</td>\n",
       "      <td>10.00</td>\n",
       "      <td>162</td>\n",
       "      <td>48</td>\n",
       "      <td>168</td>\n",
       "    </tr>\n",
       "    <tr>\n",
       "      <th>10</th>\n",
       "      <td>Bob</td>\n",
       "      <td>남성</td>\n",
       "      <td>39</td>\n",
       "      <td>30대</td>\n",
       "      <td>75.070</td>\n",
       "      <td>45.313</td>\n",
       "      <td>10.07</td>\n",
       "      <td>185</td>\n",
       "      <td>62</td>\n",
       "      <td>185</td>\n",
       "    </tr>\n",
       "    <tr>\n",
       "      <th>11</th>\n",
       "      <td>Harriett</td>\n",
       "      <td>여성</td>\n",
       "      <td>49</td>\n",
       "      <td>40대</td>\n",
       "      <td>73.370</td>\n",
       "      <td>50.388</td>\n",
       "      <td>10.08</td>\n",
       "      <td>168</td>\n",
       "      <td>67</td>\n",
       "      <td>168</td>\n",
       "    </tr>\n",
       "    <tr>\n",
       "      <th>12</th>\n",
       "      <td>Jane</td>\n",
       "      <td>여성</td>\n",
       "      <td>44</td>\n",
       "      <td>40대</td>\n",
       "      <td>73.030</td>\n",
       "      <td>50.541</td>\n",
       "      <td>10.13</td>\n",
       "      <td>168</td>\n",
       "      <td>45</td>\n",
       "      <td>168</td>\n",
       "    </tr>\n",
       "    <tr>\n",
       "      <th>13</th>\n",
       "      <td>Harold</td>\n",
       "      <td>남성</td>\n",
       "      <td>48</td>\n",
       "      <td>40대</td>\n",
       "      <td>91.630</td>\n",
       "      <td>46.774</td>\n",
       "      <td>10.25</td>\n",
       "      <td>162</td>\n",
       "      <td>48</td>\n",
       "      <td>164</td>\n",
       "    </tr>\n",
       "    <tr>\n",
       "      <th>14</th>\n",
       "      <td>Sammy</td>\n",
       "      <td>남성</td>\n",
       "      <td>54</td>\n",
       "      <td>50대</td>\n",
       "      <td>83.120</td>\n",
       "      <td>51.855</td>\n",
       "      <td>10.33</td>\n",
       "      <td>166</td>\n",
       "      <td>50</td>\n",
       "      <td>170</td>\n",
       "    </tr>\n",
       "    <tr>\n",
       "      <th>15</th>\n",
       "      <td>Buffy</td>\n",
       "      <td>여성</td>\n",
       "      <td>52</td>\n",
       "      <td>50대</td>\n",
       "      <td>73.710</td>\n",
       "      <td>45.790</td>\n",
       "      <td>10.47</td>\n",
       "      <td>186</td>\n",
       "      <td>59</td>\n",
       "      <td>188</td>\n",
       "    </tr>\n",
       "    <tr>\n",
       "      <th>16</th>\n",
       "      <td>Trent</td>\n",
       "      <td>남성</td>\n",
       "      <td>38</td>\n",
       "      <td>30대</td>\n",
       "      <td>82.780</td>\n",
       "      <td>47.467</td>\n",
       "      <td>10.50</td>\n",
       "      <td>170</td>\n",
       "      <td>53</td>\n",
       "      <td>172</td>\n",
       "    </tr>\n",
       "    <tr>\n",
       "      <th>17</th>\n",
       "      <td>Jackie</td>\n",
       "      <td>여성</td>\n",
       "      <td>47</td>\n",
       "      <td>40대</td>\n",
       "      <td>79.150</td>\n",
       "      <td>47.273</td>\n",
       "      <td>10.60</td>\n",
       "      <td>162</td>\n",
       "      <td>47</td>\n",
       "      <td>164</td>\n",
       "    </tr>\n",
       "    <tr>\n",
       "      <th>18</th>\n",
       "      <td>Ralph</td>\n",
       "      <td>남성</td>\n",
       "      <td>43</td>\n",
       "      <td>40대</td>\n",
       "      <td>82.433</td>\n",
       "      <td>49.091</td>\n",
       "      <td>10.85</td>\n",
       "      <td>162</td>\n",
       "      <td>64</td>\n",
       "      <td>170</td>\n",
       "    </tr>\n",
       "    <tr>\n",
       "      <th>19</th>\n",
       "      <td>Jack</td>\n",
       "      <td>남성</td>\n",
       "      <td>51</td>\n",
       "      <td>50대</td>\n",
       "      <td>69.630</td>\n",
       "      <td>40.836</td>\n",
       "      <td>10.95</td>\n",
       "      <td>168</td>\n",
       "      <td>57</td>\n",
       "      <td>172</td>\n",
       "    </tr>\n",
       "    <tr>\n",
       "      <th>20</th>\n",
       "      <td>Annie</td>\n",
       "      <td>여성</td>\n",
       "      <td>51</td>\n",
       "      <td>50대</td>\n",
       "      <td>67.250</td>\n",
       "      <td>45.118</td>\n",
       "      <td>11.08</td>\n",
       "      <td>172</td>\n",
       "      <td>48</td>\n",
       "      <td>172</td>\n",
       "    </tr>\n",
       "    <tr>\n",
       "      <th>21</th>\n",
       "      <td>Kate</td>\n",
       "      <td>여성</td>\n",
       "      <td>45</td>\n",
       "      <td>40대</td>\n",
       "      <td>66.450</td>\n",
       "      <td>44.754</td>\n",
       "      <td>11.12</td>\n",
       "      <td>176</td>\n",
       "      <td>51</td>\n",
       "      <td>176</td>\n",
       "    </tr>\n",
       "    <tr>\n",
       "      <th>22</th>\n",
       "      <td>Carl</td>\n",
       "      <td>남성</td>\n",
       "      <td>54</td>\n",
       "      <td>50대</td>\n",
       "      <td>79.380</td>\n",
       "      <td>46.080</td>\n",
       "      <td>11.17</td>\n",
       "      <td>156</td>\n",
       "      <td>62</td>\n",
       "      <td>165</td>\n",
       "    </tr>\n",
       "    <tr>\n",
       "      <th>23</th>\n",
       "      <td>Don</td>\n",
       "      <td>남성</td>\n",
       "      <td>44</td>\n",
       "      <td>40대</td>\n",
       "      <td>89.470</td>\n",
       "      <td>44.609</td>\n",
       "      <td>11.37</td>\n",
       "      <td>178</td>\n",
       "      <td>62</td>\n",
       "      <td>182</td>\n",
       "    </tr>\n",
       "    <tr>\n",
       "      <th>24</th>\n",
       "      <td>Effie</td>\n",
       "      <td>여성</td>\n",
       "      <td>48</td>\n",
       "      <td>40대</td>\n",
       "      <td>61.240</td>\n",
       "      <td>47.920</td>\n",
       "      <td>11.50</td>\n",
       "      <td>170</td>\n",
       "      <td>52</td>\n",
       "      <td>176</td>\n",
       "    </tr>\n",
       "    <tr>\n",
       "      <th>25</th>\n",
       "      <td>George</td>\n",
       "      <td>남성</td>\n",
       "      <td>37</td>\n",
       "      <td>30대</td>\n",
       "      <td>77.450</td>\n",
       "      <td>44.811</td>\n",
       "      <td>11.63</td>\n",
       "      <td>176</td>\n",
       "      <td>58</td>\n",
       "      <td>176</td>\n",
       "    </tr>\n",
       "    <tr>\n",
       "      <th>26</th>\n",
       "      <td>Iris</td>\n",
       "      <td>여성</td>\n",
       "      <td>39</td>\n",
       "      <td>30대</td>\n",
       "      <td>75.980</td>\n",
       "      <td>45.681</td>\n",
       "      <td>11.95</td>\n",
       "      <td>176</td>\n",
       "      <td>70</td>\n",
       "      <td>180</td>\n",
       "    </tr>\n",
       "    <tr>\n",
       "      <th>27</th>\n",
       "      <td>Mark</td>\n",
       "      <td>남성</td>\n",
       "      <td>57</td>\n",
       "      <td>50대</td>\n",
       "      <td>73.370</td>\n",
       "      <td>39.407</td>\n",
       "      <td>12.63</td>\n",
       "      <td>174</td>\n",
       "      <td>58</td>\n",
       "      <td>176</td>\n",
       "    </tr>\n",
       "    <tr>\n",
       "      <th>28</th>\n",
       "      <td>Vaughn</td>\n",
       "      <td>남성</td>\n",
       "      <td>44</td>\n",
       "      <td>40대</td>\n",
       "      <td>81.420</td>\n",
       "      <td>39.442</td>\n",
       "      <td>13.08</td>\n",
       "      <td>174</td>\n",
       "      <td>63</td>\n",
       "      <td>176</td>\n",
       "    </tr>\n",
       "    <tr>\n",
       "      <th>29</th>\n",
       "      <td>William</td>\n",
       "      <td>남성</td>\n",
       "      <td>45</td>\n",
       "      <td>40대</td>\n",
       "      <td>87.660</td>\n",
       "      <td>37.388</td>\n",
       "      <td>14.03</td>\n",
       "      <td>186</td>\n",
       "      <td>56</td>\n",
       "      <td>192</td>\n",
       "    </tr>\n",
       "  </tbody>\n",
       "</table>\n",
       "</div>"
      ],
      "text/plain": [
       "        NAME GENDER  AGE AGEGROUP  WEIGHT     OXY  RUNTIME  RUNPULSE  \\\n",
       "0      Donna     여성   42      40대  68.150  59.571     8.17       166   \n",
       "1     Gracie     여성   38      30대  81.870  60.055     8.63       170   \n",
       "2     Luanne     여성   43      40대  85.840  54.297     8.65       156   \n",
       "3       Mimi     여성   50      50대  70.870  54.625     8.92       146   \n",
       "4      Chris     남성   49      40대  82.433  49.156     8.95       180   \n",
       "5      Allen     남성   38      30대  89.020  49.874     9.22       178   \n",
       "6      Nancy     여성   49      40대  76.320  48.673     9.40       186   \n",
       "7      Patty     여성   52      50대  76.320  45.441     9.63       164   \n",
       "8    Suzanne     여성   57      50대  59.080  50.545     9.93       148   \n",
       "9     Teresa     여성   51      50대  77.910  46.672    10.00       162   \n",
       "10       Bob     남성   39      30대  75.070  45.313    10.07       185   \n",
       "11  Harriett     여성   49      40대  73.370  50.388    10.08       168   \n",
       "12      Jane     여성   44      40대  73.030  50.541    10.13       168   \n",
       "13    Harold     남성   48      40대  91.630  46.774    10.25       162   \n",
       "14     Sammy     남성   54      50대  83.120  51.855    10.33       166   \n",
       "15     Buffy     여성   52      50대  73.710  45.790    10.47       186   \n",
       "16     Trent     남성   38      30대  82.780  47.467    10.50       170   \n",
       "17    Jackie     여성   47      40대  79.150  47.273    10.60       162   \n",
       "18     Ralph     남성   43      40대  82.433  49.091    10.85       162   \n",
       "19      Jack     남성   51      50대  69.630  40.836    10.95       168   \n",
       "20     Annie     여성   51      50대  67.250  45.118    11.08       172   \n",
       "21      Kate     여성   45      40대  66.450  44.754    11.12       176   \n",
       "22      Carl     남성   54      50대  79.380  46.080    11.17       156   \n",
       "23       Don     남성   44      40대  89.470  44.609    11.37       178   \n",
       "24     Effie     여성   48      40대  61.240  47.920    11.50       170   \n",
       "25    George     남성   37      30대  77.450  44.811    11.63       176   \n",
       "26      Iris     여성   39      30대  75.980  45.681    11.95       176   \n",
       "27      Mark     남성   57      50대  73.370  39.407    12.63       174   \n",
       "28    Vaughn     남성   44      40대  81.420  39.442    13.08       174   \n",
       "29   William     남성   45      40대  87.660  37.388    14.03       186   \n",
       "\n",
       "    RSTPULSE  MAXPULSE  \n",
       "0         40       172  \n",
       "1         48       186  \n",
       "2         45       168  \n",
       "3         48       155  \n",
       "4         44       185  \n",
       "5         55       180  \n",
       "6         56       188  \n",
       "7         48       166  \n",
       "8         49       155  \n",
       "9         48       168  \n",
       "10        62       185  \n",
       "11        67       168  \n",
       "12        45       168  \n",
       "13        48       164  \n",
       "14        50       170  \n",
       "15        59       188  \n",
       "16        53       172  \n",
       "17        47       164  \n",
       "18        64       170  \n",
       "19        57       172  \n",
       "20        48       172  \n",
       "21        51       176  \n",
       "22        62       165  \n",
       "23        62       182  \n",
       "24        52       176  \n",
       "25        58       176  \n",
       "26        70       180  \n",
       "27        58       176  \n",
       "28        63       176  \n",
       "29        56       192  "
      ]
     },
     "execution_count": 31,
     "metadata": {},
     "output_type": "execute_result"
    }
   ],
   "source": [
    "#자료 index reser: dataframe.reset_index\n",
    "\n",
    "df_fitness.reset_index(drop=True, inplace=True)\n",
    "df_fitness"
   ]
  },
  {
   "cell_type": "code",
   "execution_count": 32,
   "metadata": {},
   "outputs": [
    {
     "data": {
      "text/html": [
       "<div>\n",
       "<style scoped>\n",
       "    .dataframe tbody tr th:only-of-type {\n",
       "        vertical-align: middle;\n",
       "    }\n",
       "\n",
       "    .dataframe tbody tr th {\n",
       "        vertical-align: top;\n",
       "    }\n",
       "\n",
       "    .dataframe thead th {\n",
       "        text-align: right;\n",
       "    }\n",
       "</style>\n",
       "<table border=\"1\" class=\"dataframe\">\n",
       "  <thead>\n",
       "    <tr style=\"text-align: right;\">\n",
       "      <th></th>\n",
       "      <th>AGE</th>\n",
       "      <th>WEIGHT</th>\n",
       "      <th>OXY</th>\n",
       "      <th>RUNTIME</th>\n",
       "      <th>RUNPULSE</th>\n",
       "      <th>RSTPULSE</th>\n",
       "      <th>MAXPULSE</th>\n",
       "    </tr>\n",
       "  </thead>\n",
       "  <tbody>\n",
       "    <tr>\n",
       "      <th>0</th>\n",
       "      <td>42</td>\n",
       "      <td>68.150</td>\n",
       "      <td>59.571</td>\n",
       "      <td>8.17</td>\n",
       "      <td>166</td>\n",
       "      <td>40</td>\n",
       "      <td>172</td>\n",
       "    </tr>\n",
       "    <tr>\n",
       "      <th>1</th>\n",
       "      <td>38</td>\n",
       "      <td>81.870</td>\n",
       "      <td>60.055</td>\n",
       "      <td>8.63</td>\n",
       "      <td>170</td>\n",
       "      <td>48</td>\n",
       "      <td>186</td>\n",
       "    </tr>\n",
       "    <tr>\n",
       "      <th>2</th>\n",
       "      <td>43</td>\n",
       "      <td>85.840</td>\n",
       "      <td>54.297</td>\n",
       "      <td>8.65</td>\n",
       "      <td>156</td>\n",
       "      <td>45</td>\n",
       "      <td>168</td>\n",
       "    </tr>\n",
       "    <tr>\n",
       "      <th>3</th>\n",
       "      <td>50</td>\n",
       "      <td>70.870</td>\n",
       "      <td>54.625</td>\n",
       "      <td>8.92</td>\n",
       "      <td>146</td>\n",
       "      <td>48</td>\n",
       "      <td>155</td>\n",
       "    </tr>\n",
       "    <tr>\n",
       "      <th>4</th>\n",
       "      <td>49</td>\n",
       "      <td>82.433</td>\n",
       "      <td>49.156</td>\n",
       "      <td>8.95</td>\n",
       "      <td>180</td>\n",
       "      <td>44</td>\n",
       "      <td>185</td>\n",
       "    </tr>\n",
       "  </tbody>\n",
       "</table>\n",
       "</div>"
      ],
      "text/plain": [
       "   AGE  WEIGHT     OXY  RUNTIME  RUNPULSE  RSTPULSE  MAXPULSE\n",
       "0   42  68.150  59.571     8.17       166        40       172\n",
       "1   38  81.870  60.055     8.63       170        48       186\n",
       "2   43  85.840  54.297     8.65       156        45       168\n",
       "3   50  70.870  54.625     8.92       146        48       155\n",
       "4   49  82.433  49.156     8.95       180        44       185"
      ]
     },
     "execution_count": 32,
     "metadata": {},
     "output_type": "execute_result"
    }
   ],
   "source": [
    "# scale 변환\n",
    "df_fitness_num=df_fitness.select_dtypes(exclude=\"object\")\n",
    "df_fitness_num.head()"
   ]
  },
  {
   "cell_type": "code",
   "execution_count": 34,
   "metadata": {},
   "outputs": [
    {
     "data": {
      "text/html": [
       "<div>\n",
       "<style scoped>\n",
       "    .dataframe tbody tr th:only-of-type {\n",
       "        vertical-align: middle;\n",
       "    }\n",
       "\n",
       "    .dataframe tbody tr th {\n",
       "        vertical-align: top;\n",
       "    }\n",
       "\n",
       "    .dataframe thead th {\n",
       "        text-align: right;\n",
       "    }\n",
       "</style>\n",
       "<table border=\"1\" class=\"dataframe\">\n",
       "  <thead>\n",
       "    <tr style=\"text-align: right;\">\n",
       "      <th></th>\n",
       "      <th>NAME</th>\n",
       "      <th>GENDER</th>\n",
       "      <th>AGEGROUP</th>\n",
       "    </tr>\n",
       "  </thead>\n",
       "  <tbody>\n",
       "    <tr>\n",
       "      <th>0</th>\n",
       "      <td>Donna</td>\n",
       "      <td>여성</td>\n",
       "      <td>40대</td>\n",
       "    </tr>\n",
       "    <tr>\n",
       "      <th>1</th>\n",
       "      <td>Gracie</td>\n",
       "      <td>여성</td>\n",
       "      <td>30대</td>\n",
       "    </tr>\n",
       "    <tr>\n",
       "      <th>2</th>\n",
       "      <td>Luanne</td>\n",
       "      <td>여성</td>\n",
       "      <td>40대</td>\n",
       "    </tr>\n",
       "    <tr>\n",
       "      <th>3</th>\n",
       "      <td>Mimi</td>\n",
       "      <td>여성</td>\n",
       "      <td>50대</td>\n",
       "    </tr>\n",
       "    <tr>\n",
       "      <th>4</th>\n",
       "      <td>Chris</td>\n",
       "      <td>남성</td>\n",
       "      <td>40대</td>\n",
       "    </tr>\n",
       "  </tbody>\n",
       "</table>\n",
       "</div>"
      ],
      "text/plain": [
       "     NAME GENDER AGEGROUP\n",
       "0   Donna     여성      40대\n",
       "1  Gracie     여성      30대\n",
       "2  Luanne     여성      40대\n",
       "3    Mimi     여성      50대\n",
       "4   Chris     남성      40대"
      ]
     },
     "execution_count": 34,
     "metadata": {},
     "output_type": "execute_result"
    }
   ],
   "source": [
    "#문자형 변수 선택 \n",
    "df_fitness_char=df_fitness.select_dtypes(include=\"object\")\n",
    "df_fitness_char.head()"
   ]
  },
  {
   "cell_type": "code",
   "execution_count": 35,
   "metadata": {},
   "outputs": [
    {
     "data": {
      "text/html": [
       "<div>\n",
       "<style scoped>\n",
       "    .dataframe tbody tr th:only-of-type {\n",
       "        vertical-align: middle;\n",
       "    }\n",
       "\n",
       "    .dataframe tbody tr th {\n",
       "        vertical-align: top;\n",
       "    }\n",
       "\n",
       "    .dataframe thead th {\n",
       "        text-align: right;\n",
       "    }\n",
       "</style>\n",
       "<table border=\"1\" class=\"dataframe\">\n",
       "  <thead>\n",
       "    <tr style=\"text-align: right;\">\n",
       "      <th></th>\n",
       "      <th>AGE</th>\n",
       "      <th>WEIGHT</th>\n",
       "      <th>OXY</th>\n",
       "      <th>RUNTIME</th>\n",
       "      <th>RUNPULSE</th>\n",
       "      <th>RSTPULSE</th>\n",
       "      <th>MAXPULSE</th>\n",
       "    </tr>\n",
       "  </thead>\n",
       "  <tbody>\n",
       "    <tr>\n",
       "      <th>0</th>\n",
       "      <td>42</td>\n",
       "      <td>68.150</td>\n",
       "      <td>59.571</td>\n",
       "      <td>8.17</td>\n",
       "      <td>166</td>\n",
       "      <td>40</td>\n",
       "      <td>172</td>\n",
       "    </tr>\n",
       "    <tr>\n",
       "      <th>1</th>\n",
       "      <td>38</td>\n",
       "      <td>81.870</td>\n",
       "      <td>60.055</td>\n",
       "      <td>8.63</td>\n",
       "      <td>170</td>\n",
       "      <td>48</td>\n",
       "      <td>186</td>\n",
       "    </tr>\n",
       "    <tr>\n",
       "      <th>2</th>\n",
       "      <td>43</td>\n",
       "      <td>85.840</td>\n",
       "      <td>54.297</td>\n",
       "      <td>8.65</td>\n",
       "      <td>156</td>\n",
       "      <td>45</td>\n",
       "      <td>168</td>\n",
       "    </tr>\n",
       "    <tr>\n",
       "      <th>3</th>\n",
       "      <td>50</td>\n",
       "      <td>70.870</td>\n",
       "      <td>54.625</td>\n",
       "      <td>8.92</td>\n",
       "      <td>146</td>\n",
       "      <td>48</td>\n",
       "      <td>155</td>\n",
       "    </tr>\n",
       "    <tr>\n",
       "      <th>4</th>\n",
       "      <td>49</td>\n",
       "      <td>82.433</td>\n",
       "      <td>49.156</td>\n",
       "      <td>8.95</td>\n",
       "      <td>180</td>\n",
       "      <td>44</td>\n",
       "      <td>185</td>\n",
       "    </tr>\n",
       "  </tbody>\n",
       "</table>\n",
       "</div>"
      ],
      "text/plain": [
       "   AGE  WEIGHT     OXY  RUNTIME  RUNPULSE  RSTPULSE  MAXPULSE\n",
       "0   42  68.150  59.571     8.17       166        40       172\n",
       "1   38  81.870  60.055     8.63       170        48       186\n",
       "2   43  85.840  54.297     8.65       156        45       168\n",
       "3   50  70.870  54.625     8.92       146        48       155\n",
       "4   49  82.433  49.156     8.95       180        44       185"
      ]
     },
     "execution_count": 35,
     "metadata": {},
     "output_type": "execute_result"
    }
   ],
   "source": [
    "# scale 변환 (평균, 표준편차)\n",
    "# scale 적용/변환 하면 numpy 의 ndarray 형태로 저장>dataframe으로 변환\n",
    "df_scale_std=(df_fitness_num)\n",
    "df_scale_std= pd.DataFrame(df_scale_std,columns=df_fitness_num.columns)\n",
    "df_scale_std.head()"
   ]
  },
  {
   "cell_type": "code",
   "execution_count": 37,
   "metadata": {},
   "outputs": [
    {
     "data": {
      "text/html": [
       "<div>\n",
       "<style scoped>\n",
       "    .dataframe tbody tr th:only-of-type {\n",
       "        vertical-align: middle;\n",
       "    }\n",
       "\n",
       "    .dataframe tbody tr th {\n",
       "        vertical-align: top;\n",
       "    }\n",
       "\n",
       "    .dataframe thead th {\n",
       "        text-align: right;\n",
       "    }\n",
       "</style>\n",
       "<table border=\"1\" class=\"dataframe\">\n",
       "  <thead>\n",
       "    <tr style=\"text-align: right;\">\n",
       "      <th></th>\n",
       "      <th>AGE</th>\n",
       "      <th>WEIGHT</th>\n",
       "      <th>OXY</th>\n",
       "      <th>RUNTIME</th>\n",
       "      <th>RUNPULSE</th>\n",
       "      <th>RSTPULSE</th>\n",
       "      <th>MAXPULSE</th>\n",
       "    </tr>\n",
       "  </thead>\n",
       "  <tbody>\n",
       "    <tr>\n",
       "      <th>0</th>\n",
       "      <td>42</td>\n",
       "      <td>68.150</td>\n",
       "      <td>59.571</td>\n",
       "      <td>8.17</td>\n",
       "      <td>166</td>\n",
       "      <td>40</td>\n",
       "      <td>172</td>\n",
       "    </tr>\n",
       "    <tr>\n",
       "      <th>1</th>\n",
       "      <td>38</td>\n",
       "      <td>81.870</td>\n",
       "      <td>60.055</td>\n",
       "      <td>8.63</td>\n",
       "      <td>170</td>\n",
       "      <td>48</td>\n",
       "      <td>186</td>\n",
       "    </tr>\n",
       "    <tr>\n",
       "      <th>2</th>\n",
       "      <td>43</td>\n",
       "      <td>85.840</td>\n",
       "      <td>54.297</td>\n",
       "      <td>8.65</td>\n",
       "      <td>156</td>\n",
       "      <td>45</td>\n",
       "      <td>168</td>\n",
       "    </tr>\n",
       "    <tr>\n",
       "      <th>3</th>\n",
       "      <td>50</td>\n",
       "      <td>70.870</td>\n",
       "      <td>54.625</td>\n",
       "      <td>8.92</td>\n",
       "      <td>146</td>\n",
       "      <td>48</td>\n",
       "      <td>155</td>\n",
       "    </tr>\n",
       "    <tr>\n",
       "      <th>4</th>\n",
       "      <td>49</td>\n",
       "      <td>82.433</td>\n",
       "      <td>49.156</td>\n",
       "      <td>8.95</td>\n",
       "      <td>180</td>\n",
       "      <td>44</td>\n",
       "      <td>185</td>\n",
       "    </tr>\n",
       "    <tr>\n",
       "      <th>5</th>\n",
       "      <td>38</td>\n",
       "      <td>89.020</td>\n",
       "      <td>49.874</td>\n",
       "      <td>9.22</td>\n",
       "      <td>178</td>\n",
       "      <td>55</td>\n",
       "      <td>180</td>\n",
       "    </tr>\n",
       "    <tr>\n",
       "      <th>6</th>\n",
       "      <td>49</td>\n",
       "      <td>76.320</td>\n",
       "      <td>48.673</td>\n",
       "      <td>9.40</td>\n",
       "      <td>186</td>\n",
       "      <td>56</td>\n",
       "      <td>188</td>\n",
       "    </tr>\n",
       "    <tr>\n",
       "      <th>7</th>\n",
       "      <td>52</td>\n",
       "      <td>76.320</td>\n",
       "      <td>45.441</td>\n",
       "      <td>9.63</td>\n",
       "      <td>164</td>\n",
       "      <td>48</td>\n",
       "      <td>166</td>\n",
       "    </tr>\n",
       "    <tr>\n",
       "      <th>8</th>\n",
       "      <td>57</td>\n",
       "      <td>59.080</td>\n",
       "      <td>50.545</td>\n",
       "      <td>9.93</td>\n",
       "      <td>148</td>\n",
       "      <td>49</td>\n",
       "      <td>155</td>\n",
       "    </tr>\n",
       "    <tr>\n",
       "      <th>9</th>\n",
       "      <td>51</td>\n",
       "      <td>77.910</td>\n",
       "      <td>46.672</td>\n",
       "      <td>10.00</td>\n",
       "      <td>162</td>\n",
       "      <td>48</td>\n",
       "      <td>168</td>\n",
       "    </tr>\n",
       "    <tr>\n",
       "      <th>10</th>\n",
       "      <td>39</td>\n",
       "      <td>75.070</td>\n",
       "      <td>45.313</td>\n",
       "      <td>10.07</td>\n",
       "      <td>185</td>\n",
       "      <td>62</td>\n",
       "      <td>185</td>\n",
       "    </tr>\n",
       "    <tr>\n",
       "      <th>11</th>\n",
       "      <td>49</td>\n",
       "      <td>73.370</td>\n",
       "      <td>50.388</td>\n",
       "      <td>10.08</td>\n",
       "      <td>168</td>\n",
       "      <td>67</td>\n",
       "      <td>168</td>\n",
       "    </tr>\n",
       "    <tr>\n",
       "      <th>12</th>\n",
       "      <td>44</td>\n",
       "      <td>73.030</td>\n",
       "      <td>50.541</td>\n",
       "      <td>10.13</td>\n",
       "      <td>168</td>\n",
       "      <td>45</td>\n",
       "      <td>168</td>\n",
       "    </tr>\n",
       "    <tr>\n",
       "      <th>13</th>\n",
       "      <td>48</td>\n",
       "      <td>91.630</td>\n",
       "      <td>46.774</td>\n",
       "      <td>10.25</td>\n",
       "      <td>162</td>\n",
       "      <td>48</td>\n",
       "      <td>164</td>\n",
       "    </tr>\n",
       "    <tr>\n",
       "      <th>14</th>\n",
       "      <td>54</td>\n",
       "      <td>83.120</td>\n",
       "      <td>51.855</td>\n",
       "      <td>10.33</td>\n",
       "      <td>166</td>\n",
       "      <td>50</td>\n",
       "      <td>170</td>\n",
       "    </tr>\n",
       "    <tr>\n",
       "      <th>15</th>\n",
       "      <td>52</td>\n",
       "      <td>73.710</td>\n",
       "      <td>45.790</td>\n",
       "      <td>10.47</td>\n",
       "      <td>186</td>\n",
       "      <td>59</td>\n",
       "      <td>188</td>\n",
       "    </tr>\n",
       "    <tr>\n",
       "      <th>16</th>\n",
       "      <td>38</td>\n",
       "      <td>82.780</td>\n",
       "      <td>47.467</td>\n",
       "      <td>10.50</td>\n",
       "      <td>170</td>\n",
       "      <td>53</td>\n",
       "      <td>172</td>\n",
       "    </tr>\n",
       "    <tr>\n",
       "      <th>17</th>\n",
       "      <td>47</td>\n",
       "      <td>79.150</td>\n",
       "      <td>47.273</td>\n",
       "      <td>10.60</td>\n",
       "      <td>162</td>\n",
       "      <td>47</td>\n",
       "      <td>164</td>\n",
       "    </tr>\n",
       "    <tr>\n",
       "      <th>18</th>\n",
       "      <td>43</td>\n",
       "      <td>82.433</td>\n",
       "      <td>49.091</td>\n",
       "      <td>10.85</td>\n",
       "      <td>162</td>\n",
       "      <td>64</td>\n",
       "      <td>170</td>\n",
       "    </tr>\n",
       "    <tr>\n",
       "      <th>19</th>\n",
       "      <td>51</td>\n",
       "      <td>69.630</td>\n",
       "      <td>40.836</td>\n",
       "      <td>10.95</td>\n",
       "      <td>168</td>\n",
       "      <td>57</td>\n",
       "      <td>172</td>\n",
       "    </tr>\n",
       "    <tr>\n",
       "      <th>20</th>\n",
       "      <td>51</td>\n",
       "      <td>67.250</td>\n",
       "      <td>45.118</td>\n",
       "      <td>11.08</td>\n",
       "      <td>172</td>\n",
       "      <td>48</td>\n",
       "      <td>172</td>\n",
       "    </tr>\n",
       "    <tr>\n",
       "      <th>21</th>\n",
       "      <td>45</td>\n",
       "      <td>66.450</td>\n",
       "      <td>44.754</td>\n",
       "      <td>11.12</td>\n",
       "      <td>176</td>\n",
       "      <td>51</td>\n",
       "      <td>176</td>\n",
       "    </tr>\n",
       "    <tr>\n",
       "      <th>22</th>\n",
       "      <td>54</td>\n",
       "      <td>79.380</td>\n",
       "      <td>46.080</td>\n",
       "      <td>11.17</td>\n",
       "      <td>156</td>\n",
       "      <td>62</td>\n",
       "      <td>165</td>\n",
       "    </tr>\n",
       "    <tr>\n",
       "      <th>23</th>\n",
       "      <td>44</td>\n",
       "      <td>89.470</td>\n",
       "      <td>44.609</td>\n",
       "      <td>11.37</td>\n",
       "      <td>178</td>\n",
       "      <td>62</td>\n",
       "      <td>182</td>\n",
       "    </tr>\n",
       "    <tr>\n",
       "      <th>24</th>\n",
       "      <td>48</td>\n",
       "      <td>61.240</td>\n",
       "      <td>47.920</td>\n",
       "      <td>11.50</td>\n",
       "      <td>170</td>\n",
       "      <td>52</td>\n",
       "      <td>176</td>\n",
       "    </tr>\n",
       "    <tr>\n",
       "      <th>25</th>\n",
       "      <td>37</td>\n",
       "      <td>77.450</td>\n",
       "      <td>44.811</td>\n",
       "      <td>11.63</td>\n",
       "      <td>176</td>\n",
       "      <td>58</td>\n",
       "      <td>176</td>\n",
       "    </tr>\n",
       "    <tr>\n",
       "      <th>26</th>\n",
       "      <td>39</td>\n",
       "      <td>75.980</td>\n",
       "      <td>45.681</td>\n",
       "      <td>11.95</td>\n",
       "      <td>176</td>\n",
       "      <td>70</td>\n",
       "      <td>180</td>\n",
       "    </tr>\n",
       "    <tr>\n",
       "      <th>27</th>\n",
       "      <td>57</td>\n",
       "      <td>73.370</td>\n",
       "      <td>39.407</td>\n",
       "      <td>12.63</td>\n",
       "      <td>174</td>\n",
       "      <td>58</td>\n",
       "      <td>176</td>\n",
       "    </tr>\n",
       "    <tr>\n",
       "      <th>28</th>\n",
       "      <td>44</td>\n",
       "      <td>81.420</td>\n",
       "      <td>39.442</td>\n",
       "      <td>13.08</td>\n",
       "      <td>174</td>\n",
       "      <td>63</td>\n",
       "      <td>176</td>\n",
       "    </tr>\n",
       "    <tr>\n",
       "      <th>29</th>\n",
       "      <td>45</td>\n",
       "      <td>87.660</td>\n",
       "      <td>37.388</td>\n",
       "      <td>14.03</td>\n",
       "      <td>186</td>\n",
       "      <td>56</td>\n",
       "      <td>192</td>\n",
       "    </tr>\n",
       "  </tbody>\n",
       "</table>\n",
       "</div>"
      ],
      "text/plain": [
       "    AGE  WEIGHT     OXY  RUNTIME  RUNPULSE  RSTPULSE  MAXPULSE\n",
       "0    42  68.150  59.571     8.17       166        40       172\n",
       "1    38  81.870  60.055     8.63       170        48       186\n",
       "2    43  85.840  54.297     8.65       156        45       168\n",
       "3    50  70.870  54.625     8.92       146        48       155\n",
       "4    49  82.433  49.156     8.95       180        44       185\n",
       "5    38  89.020  49.874     9.22       178        55       180\n",
       "6    49  76.320  48.673     9.40       186        56       188\n",
       "7    52  76.320  45.441     9.63       164        48       166\n",
       "8    57  59.080  50.545     9.93       148        49       155\n",
       "9    51  77.910  46.672    10.00       162        48       168\n",
       "10   39  75.070  45.313    10.07       185        62       185\n",
       "11   49  73.370  50.388    10.08       168        67       168\n",
       "12   44  73.030  50.541    10.13       168        45       168\n",
       "13   48  91.630  46.774    10.25       162        48       164\n",
       "14   54  83.120  51.855    10.33       166        50       170\n",
       "15   52  73.710  45.790    10.47       186        59       188\n",
       "16   38  82.780  47.467    10.50       170        53       172\n",
       "17   47  79.150  47.273    10.60       162        47       164\n",
       "18   43  82.433  49.091    10.85       162        64       170\n",
       "19   51  69.630  40.836    10.95       168        57       172\n",
       "20   51  67.250  45.118    11.08       172        48       172\n",
       "21   45  66.450  44.754    11.12       176        51       176\n",
       "22   54  79.380  46.080    11.17       156        62       165\n",
       "23   44  89.470  44.609    11.37       178        62       182\n",
       "24   48  61.240  47.920    11.50       170        52       176\n",
       "25   37  77.450  44.811    11.63       176        58       176\n",
       "26   39  75.980  45.681    11.95       176        70       180\n",
       "27   57  73.370  39.407    12.63       174        58       176\n",
       "28   44  81.420  39.442    13.08       174        63       176\n",
       "29   45  87.660  37.388    14.03       186        56       192"
      ]
     },
     "execution_count": 37,
     "metadata": {},
     "output_type": "execute_result"
    }
   ],
   "source": [
    "#scale 변환 확인 결과\n",
    " \n",
    "df_scale_desc=df_scale_std.describe\n",
    "df_scale_std.round(3)"
   ]
  },
  {
   "cell_type": "code",
   "execution_count": 40,
   "metadata": {},
   "outputs": [
    {
     "data": {
      "text/html": [
       "<div>\n",
       "<style scoped>\n",
       "    .dataframe tbody tr th:only-of-type {\n",
       "        vertical-align: middle;\n",
       "    }\n",
       "\n",
       "    .dataframe tbody tr th {\n",
       "        vertical-align: top;\n",
       "    }\n",
       "\n",
       "    .dataframe thead th {\n",
       "        text-align: right;\n",
       "    }\n",
       "</style>\n",
       "<table border=\"1\" class=\"dataframe\">\n",
       "  <thead>\n",
       "    <tr style=\"text-align: right;\">\n",
       "      <th></th>\n",
       "      <th>AGE</th>\n",
       "      <th>WEIGHT</th>\n",
       "      <th>OXY</th>\n",
       "      <th>RUNTIME</th>\n",
       "      <th>RUNPULSE</th>\n",
       "      <th>RSTPULSE</th>\n",
       "      <th>MAXPULSE</th>\n",
       "    </tr>\n",
       "  </thead>\n",
       "  <tbody>\n",
       "    <tr>\n",
       "      <th>0</th>\n",
       "      <td>0.25</td>\n",
       "      <td>0.278648</td>\n",
       "      <td>0.978647</td>\n",
       "      <td>0.000000</td>\n",
       "      <td>0.50</td>\n",
       "      <td>0.000000</td>\n",
       "      <td>0.459459</td>\n",
       "    </tr>\n",
       "    <tr>\n",
       "      <th>1</th>\n",
       "      <td>0.05</td>\n",
       "      <td>0.700154</td>\n",
       "      <td>1.000000</td>\n",
       "      <td>0.078498</td>\n",
       "      <td>0.60</td>\n",
       "      <td>0.266667</td>\n",
       "      <td>0.837838</td>\n",
       "    </tr>\n",
       "    <tr>\n",
       "      <th>2</th>\n",
       "      <td>0.30</td>\n",
       "      <td>0.822120</td>\n",
       "      <td>0.745974</td>\n",
       "      <td>0.081911</td>\n",
       "      <td>0.25</td>\n",
       "      <td>0.166667</td>\n",
       "      <td>0.351351</td>\n",
       "    </tr>\n",
       "    <tr>\n",
       "      <th>3</th>\n",
       "      <td>0.65</td>\n",
       "      <td>0.362212</td>\n",
       "      <td>0.760445</td>\n",
       "      <td>0.127986</td>\n",
       "      <td>0.00</td>\n",
       "      <td>0.266667</td>\n",
       "      <td>0.000000</td>\n",
       "    </tr>\n",
       "    <tr>\n",
       "      <th>4</th>\n",
       "      <td>0.60</td>\n",
       "      <td>0.717450</td>\n",
       "      <td>0.519169</td>\n",
       "      <td>0.133106</td>\n",
       "      <td>0.85</td>\n",
       "      <td>0.133333</td>\n",
       "      <td>0.810811</td>\n",
       "    </tr>\n",
       "  </tbody>\n",
       "</table>\n",
       "</div>"
      ],
      "text/plain": [
       "    AGE    WEIGHT       OXY   RUNTIME  RUNPULSE  RSTPULSE  MAXPULSE\n",
       "0  0.25  0.278648  0.978647  0.000000      0.50  0.000000  0.459459\n",
       "1  0.05  0.700154  1.000000  0.078498      0.60  0.266667  0.837838\n",
       "2  0.30  0.822120  0.745974  0.081911      0.25  0.166667  0.351351\n",
       "3  0.65  0.362212  0.760445  0.127986      0.00  0.266667  0.000000\n",
       "4  0.60  0.717450  0.519169  0.133106      0.85  0.133333  0.810811"
      ]
     },
     "execution_count": 40,
     "metadata": {},
     "output_type": "execute_result"
    }
   ],
   "source": [
    "#scale 변환 (최소- 최대)\n",
    "\n",
    "df_scale_minmax=minmax_scale(df_fitness_num)\n",
    "df_scale_minmax=pd.DataFrame(df_scale_minmax,columns=df_fitness_num.columns)\n",
    "df_scale_minmax.head()"
   ]
  },
  {
   "cell_type": "code",
   "execution_count": 41,
   "metadata": {},
   "outputs": [
    {
     "data": {
      "text/html": [
       "<div>\n",
       "<style scoped>\n",
       "    .dataframe tbody tr th:only-of-type {\n",
       "        vertical-align: middle;\n",
       "    }\n",
       "\n",
       "    .dataframe tbody tr th {\n",
       "        vertical-align: top;\n",
       "    }\n",
       "\n",
       "    .dataframe thead th {\n",
       "        text-align: right;\n",
       "    }\n",
       "</style>\n",
       "<table border=\"1\" class=\"dataframe\">\n",
       "  <thead>\n",
       "    <tr style=\"text-align: right;\">\n",
       "      <th></th>\n",
       "      <th>AGE</th>\n",
       "      <th>WEIGHT</th>\n",
       "      <th>OXY</th>\n",
       "      <th>RUNTIME</th>\n",
       "      <th>RUNPULSE</th>\n",
       "      <th>RSTPULSE</th>\n",
       "      <th>MAXPULSE</th>\n",
       "    </tr>\n",
       "  </thead>\n",
       "  <tbody>\n",
       "    <tr>\n",
       "      <th>count</th>\n",
       "      <td>30.000</td>\n",
       "      <td>30.000</td>\n",
       "      <td>30.000</td>\n",
       "      <td>30.000</td>\n",
       "      <td>30.000</td>\n",
       "      <td>30.000</td>\n",
       "      <td>30.000</td>\n",
       "    </tr>\n",
       "    <tr>\n",
       "      <th>mean</th>\n",
       "      <td>0.480</td>\n",
       "      <td>0.552</td>\n",
       "      <td>0.453</td>\n",
       "      <td>0.399</td>\n",
       "      <td>0.592</td>\n",
       "      <td>0.459</td>\n",
       "      <td>0.509</td>\n",
       "    </tr>\n",
       "    <tr>\n",
       "      <th>std</th>\n",
       "      <td>0.290</td>\n",
       "      <td>0.248</td>\n",
       "      <td>0.229</td>\n",
       "      <td>0.229</td>\n",
       "      <td>0.261</td>\n",
       "      <td>0.251</td>\n",
       "      <td>0.252</td>\n",
       "    </tr>\n",
       "    <tr>\n",
       "      <th>min</th>\n",
       "      <td>0.000</td>\n",
       "      <td>0.000</td>\n",
       "      <td>0.000</td>\n",
       "      <td>0.000</td>\n",
       "      <td>0.000</td>\n",
       "      <td>0.000</td>\n",
       "      <td>0.000</td>\n",
       "    </tr>\n",
       "    <tr>\n",
       "      <th>25%</th>\n",
       "      <td>0.300</td>\n",
       "      <td>0.431</td>\n",
       "      <td>0.343</td>\n",
       "      <td>0.262</td>\n",
       "      <td>0.412</td>\n",
       "      <td>0.267</td>\n",
       "      <td>0.351</td>\n",
       "    </tr>\n",
       "    <tr>\n",
       "      <th>50%</th>\n",
       "      <td>0.525</td>\n",
       "      <td>0.547</td>\n",
       "      <td>0.425</td>\n",
       "      <td>0.381</td>\n",
       "      <td>0.600</td>\n",
       "      <td>0.417</td>\n",
       "      <td>0.459</td>\n",
       "    </tr>\n",
       "    <tr>\n",
       "      <th>75%</th>\n",
       "      <td>0.700</td>\n",
       "      <td>0.717</td>\n",
       "      <td>0.568</td>\n",
       "      <td>0.510</td>\n",
       "      <td>0.750</td>\n",
       "      <td>0.625</td>\n",
       "      <td>0.676</td>\n",
       "    </tr>\n",
       "    <tr>\n",
       "      <th>max</th>\n",
       "      <td>1.000</td>\n",
       "      <td>1.000</td>\n",
       "      <td>1.000</td>\n",
       "      <td>1.000</td>\n",
       "      <td>1.000</td>\n",
       "      <td>1.000</td>\n",
       "      <td>1.000</td>\n",
       "    </tr>\n",
       "  </tbody>\n",
       "</table>\n",
       "</div>"
      ],
      "text/plain": [
       "          AGE  WEIGHT     OXY  RUNTIME  RUNPULSE  RSTPULSE  MAXPULSE\n",
       "count  30.000  30.000  30.000   30.000    30.000    30.000    30.000\n",
       "mean    0.480   0.552   0.453    0.399     0.592     0.459     0.509\n",
       "std     0.290   0.248   0.229    0.229     0.261     0.251     0.252\n",
       "min     0.000   0.000   0.000    0.000     0.000     0.000     0.000\n",
       "25%     0.300   0.431   0.343    0.262     0.412     0.267     0.351\n",
       "50%     0.525   0.547   0.425    0.381     0.600     0.417     0.459\n",
       "75%     0.700   0.717   0.568    0.510     0.750     0.625     0.676\n",
       "max     1.000   1.000   1.000    1.000     1.000     1.000     1.000"
      ]
     },
     "execution_count": 41,
     "metadata": {},
     "output_type": "execute_result"
    }
   ],
   "source": [
    "#scale 변환 결과 확인:요약통계량 \n",
    "df_scale_desc=df_scale_minmax.describe()\n",
    "df_scale_desc.round(3)"
   ]
  },
  {
   "cell_type": "code",
   "execution_count": 42,
   "metadata": {},
   "outputs": [
    {
     "data": {
      "text/html": [
       "<div>\n",
       "<style scoped>\n",
       "    .dataframe tbody tr th:only-of-type {\n",
       "        vertical-align: middle;\n",
       "    }\n",
       "\n",
       "    .dataframe tbody tr th {\n",
       "        vertical-align: top;\n",
       "    }\n",
       "\n",
       "    .dataframe thead th {\n",
       "        text-align: right;\n",
       "    }\n",
       "</style>\n",
       "<table border=\"1\" class=\"dataframe\">\n",
       "  <thead>\n",
       "    <tr style=\"text-align: right;\">\n",
       "      <th></th>\n",
       "      <th>AGE</th>\n",
       "      <th>WEIGHT</th>\n",
       "      <th>OXY</th>\n",
       "      <th>RUNTIME</th>\n",
       "      <th>RUNPULSE</th>\n",
       "      <th>RSTPULSE</th>\n",
       "      <th>MAXPULSE</th>\n",
       "    </tr>\n",
       "  </thead>\n",
       "  <tbody>\n",
       "    <tr>\n",
       "      <th>0</th>\n",
       "      <td>-0.6875</td>\n",
       "      <td>-0.937433</td>\n",
       "      <td>2.463797</td>\n",
       "      <td>-1.535284</td>\n",
       "      <td>-0.296296</td>\n",
       "      <td>-1.162791</td>\n",
       "      <td>0.000000</td>\n",
       "    </tr>\n",
       "    <tr>\n",
       "      <th>1</th>\n",
       "      <td>-1.1875</td>\n",
       "      <td>0.534986</td>\n",
       "      <td>2.558834</td>\n",
       "      <td>-1.218589</td>\n",
       "      <td>0.000000</td>\n",
       "      <td>-0.418605</td>\n",
       "      <td>1.166667</td>\n",
       "    </tr>\n",
       "    <tr>\n",
       "      <th>2</th>\n",
       "      <td>-0.5625</td>\n",
       "      <td>0.961043</td>\n",
       "      <td>1.428207</td>\n",
       "      <td>-1.204819</td>\n",
       "      <td>-1.037037</td>\n",
       "      <td>-0.697674</td>\n",
       "      <td>-0.333333</td>\n",
       "    </tr>\n",
       "    <tr>\n",
       "      <th>3</th>\n",
       "      <td>0.3125</td>\n",
       "      <td>-0.645525</td>\n",
       "      <td>1.492612</td>\n",
       "      <td>-1.018933</td>\n",
       "      <td>-1.777778</td>\n",
       "      <td>-0.418605</td>\n",
       "      <td>-1.416667</td>\n",
       "    </tr>\n",
       "    <tr>\n",
       "      <th>4</th>\n",
       "      <td>0.1875</td>\n",
       "      <td>0.595407</td>\n",
       "      <td>0.418733</td>\n",
       "      <td>-0.998279</td>\n",
       "      <td>0.740741</td>\n",
       "      <td>-0.790698</td>\n",
       "      <td>1.083333</td>\n",
       "    </tr>\n",
       "  </tbody>\n",
       "</table>\n",
       "</div>"
      ],
      "text/plain": [
       "      AGE    WEIGHT       OXY   RUNTIME  RUNPULSE  RSTPULSE  MAXPULSE\n",
       "0 -0.6875 -0.937433  2.463797 -1.535284 -0.296296 -1.162791  0.000000\n",
       "1 -1.1875  0.534986  2.558834 -1.218589  0.000000 -0.418605  1.166667\n",
       "2 -0.5625  0.961043  1.428207 -1.204819 -1.037037 -0.697674 -0.333333\n",
       "3  0.3125 -0.645525  1.492612 -1.018933 -1.777778 -0.418605 -1.416667\n",
       "4  0.1875  0.595407  0.418733 -0.998279  0.740741 -0.790698  1.083333"
      ]
     },
     "execution_count": 42,
     "metadata": {},
     "output_type": "execute_result"
    }
   ],
   "source": [
    "# scale 변환(로버스트)\n",
    "\n",
    "df_scale_robust=robust_scale(df_fitness_num)\n",
    "df_scale_robust=pd.DataFrame(df_scale_robust, columns=df_fitness_num.columns)\n",
    "df_scale_robust.head()"
   ]
  },
  {
   "cell_type": "code",
   "execution_count": 43,
   "metadata": {},
   "outputs": [
    {
     "data": {
      "text/html": [
       "<div>\n",
       "<style scoped>\n",
       "    .dataframe tbody tr th:only-of-type {\n",
       "        vertical-align: middle;\n",
       "    }\n",
       "\n",
       "    .dataframe tbody tr th {\n",
       "        vertical-align: top;\n",
       "    }\n",
       "\n",
       "    .dataframe thead th {\n",
       "        text-align: right;\n",
       "    }\n",
       "</style>\n",
       "<table border=\"1\" class=\"dataframe\">\n",
       "  <thead>\n",
       "    <tr style=\"text-align: right;\">\n",
       "      <th></th>\n",
       "      <th>AGE</th>\n",
       "      <th>WEIGHT</th>\n",
       "      <th>OXY</th>\n",
       "      <th>RUNTIME</th>\n",
       "      <th>RUNPULSE</th>\n",
       "      <th>RSTPULSE</th>\n",
       "      <th>MAXPULSE</th>\n",
       "    </tr>\n",
       "  </thead>\n",
       "  <tbody>\n",
       "    <tr>\n",
       "      <th>count</th>\n",
       "      <td>30.000</td>\n",
       "      <td>30.000</td>\n",
       "      <td>30.000</td>\n",
       "      <td>30.000</td>\n",
       "      <td>30.000</td>\n",
       "      <td>30.000</td>\n",
       "      <td>30.000</td>\n",
       "    </tr>\n",
       "    <tr>\n",
       "      <th>mean</th>\n",
       "      <td>-0.112</td>\n",
       "      <td>0.017</td>\n",
       "      <td>0.123</td>\n",
       "      <td>0.076</td>\n",
       "      <td>-0.022</td>\n",
       "      <td>0.118</td>\n",
       "      <td>0.153</td>\n",
       "    </tr>\n",
       "    <tr>\n",
       "      <th>std</th>\n",
       "      <td>0.726</td>\n",
       "      <td>0.868</td>\n",
       "      <td>1.020</td>\n",
       "      <td>0.925</td>\n",
       "      <td>0.772</td>\n",
       "      <td>0.702</td>\n",
       "      <td>0.776</td>\n",
       "    </tr>\n",
       "    <tr>\n",
       "      <th>min</th>\n",
       "      <td>-1.312</td>\n",
       "      <td>-1.911</td>\n",
       "      <td>-1.892</td>\n",
       "      <td>-1.535</td>\n",
       "      <td>-1.778</td>\n",
       "      <td>-1.163</td>\n",
       "      <td>-1.417</td>\n",
       "    </tr>\n",
       "    <tr>\n",
       "      <th>25%</th>\n",
       "      <td>-0.562</td>\n",
       "      <td>-0.405</td>\n",
       "      <td>-0.365</td>\n",
       "      <td>-0.478</td>\n",
       "      <td>-0.556</td>\n",
       "      <td>-0.419</td>\n",
       "      <td>-0.333</td>\n",
       "    </tr>\n",
       "    <tr>\n",
       "      <th>50%</th>\n",
       "      <td>0.000</td>\n",
       "      <td>0.000</td>\n",
       "      <td>0.000</td>\n",
       "      <td>0.000</td>\n",
       "      <td>0.000</td>\n",
       "      <td>0.000</td>\n",
       "      <td>0.000</td>\n",
       "    </tr>\n",
       "    <tr>\n",
       "      <th>75%</th>\n",
       "      <td>0.438</td>\n",
       "      <td>0.595</td>\n",
       "      <td>0.635</td>\n",
       "      <td>0.522</td>\n",
       "      <td>0.444</td>\n",
       "      <td>0.581</td>\n",
       "      <td>0.667</td>\n",
       "    </tr>\n",
       "    <tr>\n",
       "      <th>max</th>\n",
       "      <td>1.188</td>\n",
       "      <td>1.582</td>\n",
       "      <td>2.559</td>\n",
       "      <td>2.499</td>\n",
       "      <td>1.185</td>\n",
       "      <td>1.628</td>\n",
       "      <td>1.667</td>\n",
       "    </tr>\n",
       "  </tbody>\n",
       "</table>\n",
       "</div>"
      ],
      "text/plain": [
       "          AGE  WEIGHT     OXY  RUNTIME  RUNPULSE  RSTPULSE  MAXPULSE\n",
       "count  30.000  30.000  30.000   30.000    30.000    30.000    30.000\n",
       "mean   -0.112   0.017   0.123    0.076    -0.022     0.118     0.153\n",
       "std     0.726   0.868   1.020    0.925     0.772     0.702     0.776\n",
       "min    -1.312  -1.911  -1.892   -1.535    -1.778    -1.163    -1.417\n",
       "25%    -0.562  -0.405  -0.365   -0.478    -0.556    -0.419    -0.333\n",
       "50%     0.000   0.000   0.000    0.000     0.000     0.000     0.000\n",
       "75%     0.438   0.595   0.635    0.522     0.444     0.581     0.667\n",
       "max     1.188   1.582   2.559    2.499     1.185     1.628     1.667"
      ]
     },
     "execution_count": 43,
     "metadata": {},
     "output_type": "execute_result"
    }
   ],
   "source": [
    "#요약 통계량 \n",
    "\n",
    "df_scale_desc=df_scale_robust.describe()\n",
    "df_scale_desc.round(3)"
   ]
  },
  {
   "cell_type": "code",
   "execution_count": 48,
   "metadata": {},
   "outputs": [
    {
     "data": {
      "text/html": [
       "<div>\n",
       "<style scoped>\n",
       "    .dataframe tbody tr th:only-of-type {\n",
       "        vertical-align: middle;\n",
       "    }\n",
       "\n",
       "    .dataframe tbody tr th {\n",
       "        vertical-align: top;\n",
       "    }\n",
       "\n",
       "    .dataframe thead th {\n",
       "        text-align: right;\n",
       "    }\n",
       "</style>\n",
       "<table border=\"1\" class=\"dataframe\">\n",
       "  <thead>\n",
       "    <tr style=\"text-align: right;\">\n",
       "      <th></th>\n",
       "      <th>Raw</th>\n",
       "      <th>Standard</th>\n",
       "      <th>MinMax</th>\n",
       "      <th>Robust</th>\n",
       "    </tr>\n",
       "  </thead>\n",
       "  <tbody>\n",
       "    <tr>\n",
       "      <th>0</th>\n",
       "      <td>40</td>\n",
       "      <td>40</td>\n",
       "      <td>0.000</td>\n",
       "      <td>-1.163</td>\n",
       "    </tr>\n",
       "    <tr>\n",
       "      <th>1</th>\n",
       "      <td>48</td>\n",
       "      <td>48</td>\n",
       "      <td>0.267</td>\n",
       "      <td>-0.419</td>\n",
       "    </tr>\n",
       "    <tr>\n",
       "      <th>2</th>\n",
       "      <td>45</td>\n",
       "      <td>45</td>\n",
       "      <td>0.167</td>\n",
       "      <td>-0.698</td>\n",
       "    </tr>\n",
       "    <tr>\n",
       "      <th>3</th>\n",
       "      <td>48</td>\n",
       "      <td>48</td>\n",
       "      <td>0.267</td>\n",
       "      <td>-0.419</td>\n",
       "    </tr>\n",
       "    <tr>\n",
       "      <th>4</th>\n",
       "      <td>44</td>\n",
       "      <td>44</td>\n",
       "      <td>0.133</td>\n",
       "      <td>-0.791</td>\n",
       "    </tr>\n",
       "  </tbody>\n",
       "</table>\n",
       "</div>"
      ],
      "text/plain": [
       "   Raw  Standard  MinMax  Robust\n",
       "0   40        40   0.000  -1.163\n",
       "1   48        48   0.267  -0.419\n",
       "2   45        45   0.167  -0.698\n",
       "3   48        48   0.267  -0.419\n",
       "4   44        44   0.133  -0.791"
      ]
     },
     "execution_count": 48,
     "metadata": {},
     "output_type": "execute_result"
    }
   ],
   "source": [
    "#scale 변환 결과 비교 \n",
    "\n",
    "df_rfpulse=pd.DataFrame()\n",
    "df_rfpulse[\"Raw\"]=df_fitness_num['RSTPULSE']\n",
    "df_rfpulse['Standard']=df_scale_std['RSTPULSE']\n",
    "df_rfpulse['MinMax']=df_scale_minmax['RSTPULSE']\n",
    "df_rfpulse['Robust']=df_scale_robust['RSTPULSE']\n",
    "df_rfpulse.head().round(3)\n"
   ]
  },
  {
   "cell_type": "code",
   "execution_count": 47,
   "metadata": {},
   "outputs": [
    {
     "data": {
      "text/html": [
       "<div>\n",
       "<style scoped>\n",
       "    .dataframe tbody tr th:only-of-type {\n",
       "        vertical-align: middle;\n",
       "    }\n",
       "\n",
       "    .dataframe tbody tr th {\n",
       "        vertical-align: top;\n",
       "    }\n",
       "\n",
       "    .dataframe thead th {\n",
       "        text-align: right;\n",
       "    }\n",
       "</style>\n",
       "<table border=\"1\" class=\"dataframe\">\n",
       "  <thead>\n",
       "    <tr style=\"text-align: right;\">\n",
       "      <th></th>\n",
       "      <th>Raw</th>\n",
       "      <th>Standard</th>\n",
       "      <th>MinMax</th>\n",
       "      <th>Robust</th>\n",
       "    </tr>\n",
       "  </thead>\n",
       "  <tbody>\n",
       "    <tr>\n",
       "      <th>count</th>\n",
       "      <td>30.000</td>\n",
       "      <td>30.000</td>\n",
       "      <td>30.000</td>\n",
       "      <td>30.000</td>\n",
       "    </tr>\n",
       "    <tr>\n",
       "      <th>mean</th>\n",
       "      <td>53.767</td>\n",
       "      <td>53.767</td>\n",
       "      <td>0.459</td>\n",
       "      <td>0.118</td>\n",
       "    </tr>\n",
       "    <tr>\n",
       "      <th>std</th>\n",
       "      <td>7.542</td>\n",
       "      <td>7.542</td>\n",
       "      <td>0.251</td>\n",
       "      <td>0.702</td>\n",
       "    </tr>\n",
       "    <tr>\n",
       "      <th>min</th>\n",
       "      <td>40.000</td>\n",
       "      <td>40.000</td>\n",
       "      <td>0.000</td>\n",
       "      <td>-1.163</td>\n",
       "    </tr>\n",
       "    <tr>\n",
       "      <th>25%</th>\n",
       "      <td>48.000</td>\n",
       "      <td>48.000</td>\n",
       "      <td>0.267</td>\n",
       "      <td>-0.419</td>\n",
       "    </tr>\n",
       "    <tr>\n",
       "      <th>50%</th>\n",
       "      <td>52.500</td>\n",
       "      <td>52.500</td>\n",
       "      <td>0.417</td>\n",
       "      <td>0.000</td>\n",
       "    </tr>\n",
       "    <tr>\n",
       "      <th>75%</th>\n",
       "      <td>58.750</td>\n",
       "      <td>58.750</td>\n",
       "      <td>0.625</td>\n",
       "      <td>0.581</td>\n",
       "    </tr>\n",
       "    <tr>\n",
       "      <th>max</th>\n",
       "      <td>70.000</td>\n",
       "      <td>70.000</td>\n",
       "      <td>1.000</td>\n",
       "      <td>1.628</td>\n",
       "    </tr>\n",
       "  </tbody>\n",
       "</table>\n",
       "</div>"
      ],
      "text/plain": [
       "          Raw  Standard  MinMax  Robust\n",
       "count  30.000    30.000  30.000  30.000\n",
       "mean   53.767    53.767   0.459   0.118\n",
       "std     7.542     7.542   0.251   0.702\n",
       "min    40.000    40.000   0.000  -1.163\n",
       "25%    48.000    48.000   0.267  -0.419\n",
       "50%    52.500    52.500   0.417   0.000\n",
       "75%    58.750    58.750   0.625   0.581\n",
       "max    70.000    70.000   1.000   1.628"
      ]
     },
     "execution_count": 47,
     "metadata": {},
     "output_type": "execute_result"
    }
   ],
   "source": [
    "df_rfpulse.describe().round(3)"
   ]
  },
  {
   "cell_type": "code",
   "execution_count": 50,
   "metadata": {},
   "outputs": [
    {
     "data": {
      "text/plain": [
       "array([[<matplotlib.axes._subplots.AxesSubplot object at 0x7f90dd0fb310>,\n",
       "        <matplotlib.axes._subplots.AxesSubplot object at 0x7f90dd3d4c70>],\n",
       "       [<matplotlib.axes._subplots.AxesSubplot object at 0x7f90defdf670>,\n",
       "        <matplotlib.axes._subplots.AxesSubplot object at 0x7f90dd303f70>]],\n",
       "      dtype=object)"
      ]
     },
     "execution_count": 50,
     "metadata": {},
     "output_type": "execute_result"
    },
    {
     "data": {
      "image/png": "[encoded data removed]",
      "text/plain": [
       "<Figure size 720x360 with 4 Axes>"
      ]
     },
     "metadata": {
      "needs_background": "light"
     },
     "output_type": "display_data"
    }
   ],
   "source": [
    "df_rfpulse[[\"Raw\",'Standard','MinMax','Robust']].hist(figsize=(10,5))"
   ]
  },
  {
   "cell_type": "markdown",
   "metadata": {},
   "source": [
    "# 탐색적 분석 \n"
   ]
  },
  {
   "cell_type": "code",
   "execution_count": 51,
   "metadata": {},
   "outputs": [
    {
     "name": "stderr",
     "output_type": "stream",
     "text": [
      "<frozen importlib._bootstrap>:219: RuntimeWarning: numpy.ufunc size changed, may indicate binary incompatibility. Expected 192 from C header, got 216 from PyObject\n"
     ]
    }
   ],
   "source": [
    "import pandas as pd \n",
    "import numpy as np\n",
    "import matplotlib\n",
    "import matplotlib.pyplot as plt\n",
    "import seaborn as sns\n",
    "\n",
    "from sklearn.preprocessing import scale, minmax_scale, robust_scale\n",
    "\n",
    "%matplotlib inline\n",
    "\n",
    "matplotlib.rc('font', family='malgun gothic')\n",
    "plt.rc('font', family='malgun gothic')\n",
    "\n",
    "plt.rcParams['axes.unicode_minus']= False"
   ]
  },
  {
   "cell_type": "code",
   "execution_count": 57,
   "metadata": {},
   "outputs": [
    {
     "data": {
      "text/html": [
       "<div>\n",
       "<style scoped>\n",
       "    .dataframe tbody tr th:only-of-type {\n",
       "        vertical-align: middle;\n",
       "    }\n",
       "\n",
       "    .dataframe tbody tr th {\n",
       "        vertical-align: top;\n",
       "    }\n",
       "\n",
       "    .dataframe thead th {\n",
       "        text-align: right;\n",
       "    }\n",
       "</style>\n",
       "<table border=\"1\" class=\"dataframe\">\n",
       "  <thead>\n",
       "    <tr style=\"text-align: right;\">\n",
       "      <th></th>\n",
       "      <th>NAME</th>\n",
       "      <th>GENDER</th>\n",
       "      <th>AGE</th>\n",
       "      <th>AGEGROUP</th>\n",
       "      <th>WEIGHT</th>\n",
       "      <th>OXY</th>\n",
       "      <th>RUNTIME</th>\n",
       "      <th>RUNPULSE</th>\n",
       "      <th>RSTPULSE</th>\n",
       "      <th>MAXPULSE</th>\n",
       "    </tr>\n",
       "  </thead>\n",
       "  <tbody>\n",
       "    <tr>\n",
       "      <th>0</th>\n",
       "      <td>Donna</td>\n",
       "      <td>여성</td>\n",
       "      <td>42</td>\n",
       "      <td>40대</td>\n",
       "      <td>68.15</td>\n",
       "      <td>59.571</td>\n",
       "      <td>8.17</td>\n",
       "      <td>166</td>\n",
       "      <td>40</td>\n",
       "      <td>172</td>\n",
       "    </tr>\n",
       "    <tr>\n",
       "      <th>1</th>\n",
       "      <td>Gracie</td>\n",
       "      <td>여성</td>\n",
       "      <td>38</td>\n",
       "      <td>30대</td>\n",
       "      <td>81.87</td>\n",
       "      <td>60.055</td>\n",
       "      <td>8.63</td>\n",
       "      <td>170</td>\n",
       "      <td>48</td>\n",
       "      <td>186</td>\n",
       "    </tr>\n",
       "    <tr>\n",
       "      <th>2</th>\n",
       "      <td>Luanne</td>\n",
       "      <td>여성</td>\n",
       "      <td>43</td>\n",
       "      <td>40대</td>\n",
       "      <td>85.84</td>\n",
       "      <td>54.297</td>\n",
       "      <td>8.65</td>\n",
       "      <td>156</td>\n",
       "      <td>45</td>\n",
       "      <td>168</td>\n",
       "    </tr>\n",
       "    <tr>\n",
       "      <th>3</th>\n",
       "      <td>Mimi</td>\n",
       "      <td>여성</td>\n",
       "      <td>50</td>\n",
       "      <td>50대</td>\n",
       "      <td>70.87</td>\n",
       "      <td>54.625</td>\n",
       "      <td>8.92</td>\n",
       "      <td>146</td>\n",
       "      <td>48</td>\n",
       "      <td>155</td>\n",
       "    </tr>\n",
       "    <tr>\n",
       "      <th>4</th>\n",
       "      <td>Chris</td>\n",
       "      <td>남성</td>\n",
       "      <td>49</td>\n",
       "      <td>40대</td>\n",
       "      <td>81.42</td>\n",
       "      <td>49.156</td>\n",
       "      <td>8.95</td>\n",
       "      <td>180</td>\n",
       "      <td>44</td>\n",
       "      <td>185</td>\n",
       "    </tr>\n",
       "  </tbody>\n",
       "</table>\n",
       "</div>"
      ],
      "text/plain": [
       "     NAME GENDER  AGE AGEGROUP  WEIGHT     OXY  RUNTIME  RUNPULSE  RSTPULSE  \\\n",
       "0   Donna     여성   42      40대   68.15  59.571     8.17       166        40   \n",
       "1  Gracie     여성   38      30대   81.87  60.055     8.63       170        48   \n",
       "2  Luanne     여성   43      40대   85.84  54.297     8.65       156        45   \n",
       "3    Mimi     여성   50      50대   70.87  54.625     8.92       146        48   \n",
       "4   Chris     남성   49      40대   81.42  49.156     8.95       180        44   \n",
       "\n",
       "   MAXPULSE  \n",
       "0       172  \n",
       "1       186  \n",
       "2       168  \n",
       "3       155  \n",
       "4       185  "
      ]
     },
     "execution_count": 57,
     "metadata": {},
     "output_type": "execute_result"
    }
   ],
   "source": [
    "#파이썬 데이터 가져오기\n",
    "df_fitness=pd.read_csv(\"./통계 시험/FITNESS.csv\", engine='python',encoding=\"cp949\")\n",
    "df_fitness.head()"
   ]
  },
  {
   "cell_type": "code",
   "execution_count": 58,
   "metadata": {},
   "outputs": [
    {
     "data": {
      "text/html": [
       "<div>\n",
       "<style scoped>\n",
       "    .dataframe tbody tr th:only-of-type {\n",
       "        vertical-align: middle;\n",
       "    }\n",
       "\n",
       "    .dataframe tbody tr th {\n",
       "        vertical-align: top;\n",
       "    }\n",
       "\n",
       "    .dataframe thead th {\n",
       "        text-align: right;\n",
       "    }\n",
       "</style>\n",
       "<table border=\"1\" class=\"dataframe\">\n",
       "  <thead>\n",
       "    <tr style=\"text-align: right;\">\n",
       "      <th></th>\n",
       "      <th>CURRENCY</th>\n",
       "      <th>APPL_DATE</th>\n",
       "      <th>STD_RATE</th>\n",
       "      <th>USD_CONV_DATE</th>\n",
       "    </tr>\n",
       "  </thead>\n",
       "  <tbody>\n",
       "    <tr>\n",
       "      <th>0</th>\n",
       "      <td>CNY</td>\n",
       "      <td>2016-01-01</td>\n",
       "      <td>181.48</td>\n",
       "      <td>0.1541</td>\n",
       "    </tr>\n",
       "    <tr>\n",
       "      <th>1</th>\n",
       "      <td>JPY</td>\n",
       "      <td>2016-01-01</td>\n",
       "      <td>976.99</td>\n",
       "      <td>0.8294</td>\n",
       "    </tr>\n",
       "    <tr>\n",
       "      <th>2</th>\n",
       "      <td>USD</td>\n",
       "      <td>2016-01-01</td>\n",
       "      <td>1178.00</td>\n",
       "      <td>1.0000</td>\n",
       "    </tr>\n",
       "    <tr>\n",
       "      <th>3</th>\n",
       "      <td>CNY</td>\n",
       "      <td>2016-01-02</td>\n",
       "      <td>181.48</td>\n",
       "      <td>0.1541</td>\n",
       "    </tr>\n",
       "    <tr>\n",
       "      <th>4</th>\n",
       "      <td>JPY</td>\n",
       "      <td>2016-01-02</td>\n",
       "      <td>976.99</td>\n",
       "      <td>0.8294</td>\n",
       "    </tr>\n",
       "  </tbody>\n",
       "</table>\n",
       "</div>"
      ],
      "text/plain": [
       "  CURRENCY  APPL_DATE  STD_RATE  USD_CONV_DATE\n",
       "0      CNY 2016-01-01    181.48         0.1541\n",
       "1      JPY 2016-01-01    976.99         0.8294\n",
       "2      USD 2016-01-01   1178.00         1.0000\n",
       "3      CNY 2016-01-02    181.48         0.1541\n",
       "4      JPY 2016-01-02    976.99         0.8294"
      ]
     },
     "execution_count": 58,
     "metadata": {},
     "output_type": "execute_result"
    }
   ],
   "source": [
    "#환율 데이터 가져오기\n",
    "\n",
    "\n",
    "df_currency=pd.read_csv(\"./통계 시험/환율.csv\", engine='python',encoding=\"cp949\",parse_dates=['APPL_DATE'])\n",
    "df_currency.head()"
   ]
  },
  {
   "cell_type": "code",
   "execution_count": 59,
   "metadata": {},
   "outputs": [
    {
     "data": {
      "text/plain": [
       "<matplotlib.axes._subplots.AxesSubplot at 0x7f90dd19c2b0>"
      ]
     },
     "execution_count": 59,
     "metadata": {},
     "output_type": "execute_result"
    },
    {
     "name": "stderr",
     "output_type": "stream",
     "text": [
      "/home/piai/anaconda3/lib/python3.8/site-packages/matplotlib/backends/backend_agg.py:214: RuntimeWarning: Glyph 50668 missing from current font.\n",
      "  font.set_text(s, 0.0, flags=flags)\n",
      "/home/piai/anaconda3/lib/python3.8/site-packages/matplotlib/backends/backend_agg.py:214: RuntimeWarning: Glyph 49457 missing from current font.\n",
      "  font.set_text(s, 0.0, flags=flags)\n",
      "/home/piai/anaconda3/lib/python3.8/site-packages/matplotlib/backends/backend_agg.py:214: RuntimeWarning: Glyph 45224 missing from current font.\n",
      "  font.set_text(s, 0.0, flags=flags)\n",
      "/home/piai/anaconda3/lib/python3.8/site-packages/matplotlib/backends/backend_agg.py:183: RuntimeWarning: Glyph 50668 missing from current font.\n",
      "  font.set_text(s, 0, flags=flags)\n",
      "/home/piai/anaconda3/lib/python3.8/site-packages/matplotlib/backends/backend_agg.py:183: RuntimeWarning: Glyph 49457 missing from current font.\n",
      "  font.set_text(s, 0, flags=flags)\n",
      "/home/piai/anaconda3/lib/python3.8/site-packages/matplotlib/backends/backend_agg.py:183: RuntimeWarning: Glyph 45224 missing from current font.\n",
      "  font.set_text(s, 0, flags=flags)\n"
     ]
    },
    {
     "data": {
      "image/png": "[encoded data removed]",
      "text/plain": [
       "<Figure size 432x288 with 1 Axes>"
      ]
     },
     "metadata": {
      "needs_background": "light"
     },
     "output_type": "display_data"
    }
   ],
   "source": [
    "# bar chart 생성 \n",
    "# 성별 바차트 생성\n",
    "df_count=df_fitness[\"GENDER\"].value_counts()\n",
    "df_count.plot.bar()"
   ]
  },
  {
   "cell_type": "code",
   "execution_count": 67,
   "metadata": {},
   "outputs": [
    {
     "data": {
      "text/plain": [
       "<matplotlib.axes._subplots.AxesSubplot at 0x7f90dc0c1580>"
      ]
     },
     "execution_count": 67,
     "metadata": {},
     "output_type": "execute_result"
    },
    {
     "data": {
      "image/png": "[encoded data removed]",
      "text/plain": [
       "<Figure size 432x288 with 1 Axes>"
      ]
     },
     "metadata": {
      "needs_background": "light"
     },
     "output_type": "display_data"
    }
   ],
   "source": [
    "sns.countplot(x=\"GENDER\",data=df_fitness)"
   ]
  },
  {
   "cell_type": "code",
   "execution_count": 61,
   "metadata": {},
   "outputs": [
    {
     "data": {
      "text/plain": [
       "<matplotlib.axes._subplots.AxesSubplot at 0x7f90dd3f1340>"
      ]
     },
     "execution_count": 61,
     "metadata": {},
     "output_type": "execute_result"
    },
    {
     "name": "stderr",
     "output_type": "stream",
     "text": [
      "/home/piai/anaconda3/lib/python3.8/site-packages/matplotlib/backends/backend_agg.py:214: RuntimeWarning: Glyph 45824 missing from current font.\n",
      "  font.set_text(s, 0.0, flags=flags)\n",
      "/home/piai/anaconda3/lib/python3.8/site-packages/matplotlib/backends/backend_agg.py:183: RuntimeWarning: Glyph 45824 missing from current font.\n",
      "  font.set_text(s, 0, flags=flags)\n"
     ]
    },
    {
     "data": {
      "image/png": "[encoded data removed]",
      "text/plain": [
       "<Figure size 432x288 with 1 Axes>"
      ]
     },
     "metadata": {
      "needs_background": "light"
     },
     "output_type": "display_data"
    }
   ],
   "source": [
    "#연령대 바 차트 \n",
    "\n",
    "df_count= df_fitness[\"AGEGROUP\"].value_counts()\n",
    "\n",
    "df_count.sort_index(inplace=True);\n",
    "df_count.plot.bar()"
   ]
  },
  {
   "cell_type": "code",
   "execution_count": 70,
   "metadata": {},
   "outputs": [
    {
     "data": {
      "text/plain": [
       "<matplotlib.axes._subplots.AxesSubplot at 0x7f90db4cfee0>"
      ]
     },
     "execution_count": 70,
     "metadata": {},
     "output_type": "execute_result"
    },
    {
     "data": {
      "image/png": "[encoded data removed]",
      "text/plain": [
       "<Figure size 432x288 with 1 Axes>"
      ]
     },
     "metadata": {
      "needs_background": "light"
     },
     "output_type": "display_data"
    }
   ],
   "source": [
    "sns.countplot(x=\"AGEGROUP\",data=df_fitness, order=df_fitness[\"AGEGROUP\"].value_counts().index)"
   ]
  },
  {
   "cell_type": "code",
   "execution_count": 63,
   "metadata": {},
   "outputs": [
    {
     "data": {
      "text/plain": [
       "<matplotlib.axes._subplots.AxesSubplot at 0x7f90dda641f0>"
      ]
     },
     "execution_count": 63,
     "metadata": {},
     "output_type": "execute_result"
    },
    {
     "name": "stderr",
     "output_type": "stream",
     "text": [
      "/home/piai/anaconda3/lib/python3.8/site-packages/matplotlib/backends/backend_agg.py:214: RuntimeWarning: Glyph 45224 missing from current font.\n",
      "  font.set_text(s, 0.0, flags=flags)\n",
      "/home/piai/anaconda3/lib/python3.8/site-packages/matplotlib/backends/backend_agg.py:214: RuntimeWarning: Glyph 49457 missing from current font.\n",
      "  font.set_text(s, 0.0, flags=flags)\n",
      "/home/piai/anaconda3/lib/python3.8/site-packages/matplotlib/backends/backend_agg.py:214: RuntimeWarning: Glyph 45824 missing from current font.\n",
      "  font.set_text(s, 0.0, flags=flags)\n",
      "/home/piai/anaconda3/lib/python3.8/site-packages/matplotlib/backends/backend_agg.py:214: RuntimeWarning: Glyph 50668 missing from current font.\n",
      "  font.set_text(s, 0.0, flags=flags)\n",
      "/home/piai/anaconda3/lib/python3.8/site-packages/matplotlib/backends/backend_agg.py:183: RuntimeWarning: Glyph 45224 missing from current font.\n",
      "  font.set_text(s, 0, flags=flags)\n",
      "/home/piai/anaconda3/lib/python3.8/site-packages/matplotlib/backends/backend_agg.py:183: RuntimeWarning: Glyph 49457 missing from current font.\n",
      "  font.set_text(s, 0, flags=flags)\n",
      "/home/piai/anaconda3/lib/python3.8/site-packages/matplotlib/backends/backend_agg.py:183: RuntimeWarning: Glyph 45824 missing from current font.\n",
      "  font.set_text(s, 0, flags=flags)\n",
      "/home/piai/anaconda3/lib/python3.8/site-packages/matplotlib/backends/backend_agg.py:183: RuntimeWarning: Glyph 50668 missing from current font.\n",
      "  font.set_text(s, 0, flags=flags)\n"
     ]
    },
    {
     "data": {
      "image/png": "[encoded data removed]",
      "text/plain": [
       "<Figure size 432x288 with 1 Axes>"
      ]
     },
     "metadata": {
      "needs_background": "light"
     },
     "output_type": "display_data"
    }
   ],
   "source": [
    "#dataframe.groupby['변수1',...].size():복수(1개 이상) 의범주형 변수의 자료수 통합계산\n",
    "#성별+연령대 바 차트\n",
    "#groupby(column):column기준 자료 요약 ,as_index:groupby변수의 index로 사용여부 \n",
    "df_groupby_total=df_fitness.groupby([\"GENDER\",\"AGEGROUP\"],as_index=False).size()\n",
    "#df_groupby_total=df_fitness.groupby([\"GENDER\",\"AGEGROUP\"],as_index=False).agg(\"count\")위와 동일 \n",
    "df_groupby_total.plot.bar()"
   ]
  },
  {
   "cell_type": "code",
   "execution_count": 69,
   "metadata": {
    "scrolled": true
   },
   "outputs": [
    {
     "data": {
      "text/plain": [
       "<matplotlib.axes._subplots.AxesSubplot at 0x7f90dc058fa0>"
      ]
     },
     "execution_count": 69,
     "metadata": {},
     "output_type": "execute_result"
    },
    {
     "data": {
      "image/png": "[encoded data removed]",
      "text/plain": [
       "<Figure size 432x288 with 1 Axes>"
      ]
     },
     "metadata": {
      "needs_background": "light"
     },
     "output_type": "display_data"
    }
   ],
   "source": [
    "sns.countplot(x=\"AGEGROUP\",hue=\"GENDER\",data=df_fitness, order=df_fitness[\"AGEGROUP\"].value_counts().index)"
   ]
  },
  {
   "cell_type": "markdown",
   "metadata": {},
   "source": [
    "결론: 남성과 여성은 같다. 30대 40대 50대 순으로 많다. 여성들로만 봐도 40대 50대가 많다. 남녀가 포함해서 30대가 가장적다. 40대가 가장많다"
   ]
  },
  {
   "cell_type": "markdown",
   "metadata": {},
   "source": [
    "# histogram"
   ]
  },
  {
   "cell_type": "code",
   "execution_count": 71,
   "metadata": {},
   "outputs": [
    {
     "data": {
      "text/plain": [
       "<matplotlib.axes._subplots.AxesSubplot at 0x7f90db4bb400>"
      ]
     },
     "execution_count": 71,
     "metadata": {},
     "output_type": "execute_result"
    },
    {
     "data": {
      "image/png": "[encoded data removed]",
      "text/plain": [
       "<Figure size 432x288 with 1 Axes>"
      ]
     },
     "metadata": {
      "needs_background": "light"
     },
     "output_type": "display_data"
    }
   ],
   "source": [
    "#히스토그램 생성: 혈당 산소 요구량 (OXY)\n",
    "\n",
    "df_fitness[\"OXY\"].hist()"
   ]
  },
  {
   "cell_type": "code",
   "execution_count": 72,
   "metadata": {},
   "outputs": [
    {
     "data": {
      "text/plain": [
       "array([[<matplotlib.axes._subplots.AxesSubplot object at 0x7f90db42c8b0>,\n",
       "        <matplotlib.axes._subplots.AxesSubplot object at 0x7f90db3c8e20>,\n",
       "        <matplotlib.axes._subplots.AxesSubplot object at 0x7f90db4002e0>],\n",
       "       [<matplotlib.axes._subplots.AxesSubplot object at 0x7f90db3ac730>,\n",
       "        <matplotlib.axes._subplots.AxesSubplot object at 0x7f90db359b80>,\n",
       "        <matplotlib.axes._subplots.AxesSubplot object at 0x7f90db386070>],\n",
       "       [<matplotlib.axes._subplots.AxesSubplot object at 0x7f90db311040>,\n",
       "        <matplotlib.axes._subplots.AxesSubplot object at 0x7f90db2e9910>,\n",
       "        <matplotlib.axes._subplots.AxesSubplot object at 0x7f90db28ae20>]],\n",
       "      dtype=object)"
      ]
     },
     "execution_count": 72,
     "metadata": {},
     "output_type": "execute_result"
    },
    {
     "data": {
      "image/png": "[encoded data removed]",
      "text/plain": [
       "<Figure size 720x504 with 9 Axes>"
      ]
     },
     "metadata": {
      "needs_background": "light"
     },
     "output_type": "display_data"
    }
   ],
   "source": [
    "#히스토그램 생성: 숫자형 변수 \n",
    "\n",
    "#hist(figsiz):figsiz=(x축크기, y축크기 )그래프 영역별 중첩처리\n",
    "df_fitness.hist(figsize=(10,7))"
   ]
  },
  {
   "cell_type": "code",
   "execution_count": 76,
   "metadata": {},
   "outputs": [
    {
     "data": {
      "text/plain": [
       "array([<matplotlib.axes._subplots.AxesSubplot object at 0x7f90db646ac0>,\n",
       "       <matplotlib.axes._subplots.AxesSubplot object at 0x7f90dbf98bb0>],\n",
       "      dtype=object)"
      ]
     },
     "execution_count": 76,
     "metadata": {},
     "output_type": "execute_result"
    },
    {
     "data": {
      "image/png": "[encoded data removed]",
      "text/plain": [
       "<Figure size 432x288 with 2 Axes>"
      ]
     },
     "metadata": {
      "needs_background": "light"
     },
     "output_type": "display_data"
    }
   ],
   "source": [
    "#히스토그램 생성: 성별 혈당산소량\n",
    "#hist(column=\"변수\",by=\"그룹변수\",range=(최소값,최대값)) x축 범위 통일\n",
    "df_fitness.hist(column=\"OXY\",by=\"GENDER\",range=(35,65))"
   ]
  },
  {
   "cell_type": "code",
   "execution_count": 80,
   "metadata": {},
   "outputs": [
    {
     "name": "stderr",
     "output_type": "stream",
     "text": [
      "/home/piai/anaconda3/lib/python3.8/site-packages/matplotlib/backends/backend_agg.py:214: RuntimeWarning: Glyph 50668 missing from current font.\n",
      "  font.set_text(s, 0.0, flags=flags)\n",
      "/home/piai/anaconda3/lib/python3.8/site-packages/matplotlib/backends/backend_agg.py:214: RuntimeWarning: Glyph 49457 missing from current font.\n",
      "  font.set_text(s, 0.0, flags=flags)\n",
      "/home/piai/anaconda3/lib/python3.8/site-packages/matplotlib/backends/backend_agg.py:214: RuntimeWarning: Glyph 45224 missing from current font.\n",
      "  font.set_text(s, 0.0, flags=flags)\n"
     ]
    },
    {
     "data": {
      "text/plain": [
       "<seaborn.axisgrid.FacetGrid at 0x7f90dbe7efd0>"
      ]
     },
     "execution_count": 80,
     "metadata": {},
     "output_type": "execute_result"
    },
    {
     "name": "stderr",
     "output_type": "stream",
     "text": [
      "/home/piai/anaconda3/lib/python3.8/site-packages/matplotlib/backends/backend_agg.py:183: RuntimeWarning: Glyph 50668 missing from current font.\n",
      "  font.set_text(s, 0, flags=flags)\n",
      "/home/piai/anaconda3/lib/python3.8/site-packages/matplotlib/backends/backend_agg.py:183: RuntimeWarning: Glyph 49457 missing from current font.\n",
      "  font.set_text(s, 0, flags=flags)\n",
      "/home/piai/anaconda3/lib/python3.8/site-packages/matplotlib/backends/backend_agg.py:183: RuntimeWarning: Glyph 45224 missing from current font.\n",
      "  font.set_text(s, 0, flags=flags)\n"
     ]
    },
    {
     "data": {
      "image/png": "[encoded data removed]",
      "text/plain": [
       "<Figure size 432x216 with 2 Axes>"
      ]
     },
     "metadata": {
      "needs_background": "light"
     },
     "output_type": "display_data"
    }
   ],
   "source": [
    "#seaborn 사용,FacetGrid(데이터 지정,col=\"컬럼지정\"):지정된 컬럼의 범주별 그리드 영역 생성 , y축 범위 동일 \n",
    "\n",
    "grid=sns.FacetGrid(df_fitness,col=\"GENDER\")\n",
    "\n",
    "#  map(함수, 문자형 컬럼형):범주별 히스토그램 생성 \n",
    "\n",
    "grid.map(plt.hist,\"OXY\")"
   ]
  },
  {
   "cell_type": "code",
   "execution_count": 83,
   "metadata": {},
   "outputs": [
    {
     "data": {
      "text/plain": [
       "<matplotlib.legend.Legend at 0x7f90dcdec160>"
      ]
     },
     "execution_count": 83,
     "metadata": {},
     "output_type": "execute_result"
    },
    {
     "data": {
      "image/png": "[encoded data removed]",
      "text/plain": [
       "<Figure size 432x288 with 1 Axes>"
      ]
     },
     "metadata": {
      "needs_background": "light"
     },
     "output_type": "display_data"
    }
   ],
   "source": [
    "#히스토그램 생성: 성병 혈당 산소 요구량 중첩\n",
    "#matplotlib.pyplot.hist method 이용하여 중첩 히스토그램 생성\n",
    "#hist(변수 ,label=\"표시값\",alpha=투명도 지정 (0-1))\n",
    "\n",
    "\n",
    "plt.hist(df_fitness[df_fitness[\"GENDER\"]==\"남성\"]['OXY'],label=\"남성\",alpha=0.5)\n",
    "plt.hist(df_fitness[df_fitness[\"GENDER\"]==\"여성\"]['OXY'],label=\"여성\",alpha=0.5)\n",
    "plt.legend()"
   ]
  },
  {
   "cell_type": "code",
   "execution_count": 84,
   "metadata": {},
   "outputs": [
    {
     "data": {
      "text/plain": [
       "(array([1., 3., 0., 1., 0., 0., 5., 4., 4., 2., 2., 4., 1., 0., 1., 1., 0.,\n",
       "        0., 0., 2.]),\n",
       " array([37.388  , 38.52135, 39.6547 , 40.78805, 41.9214 , 43.05475,\n",
       "        44.1881 , 45.32145, 46.4548 , 47.58815, 48.7215 , 49.85485,\n",
       "        50.9882 , 52.12155, 53.2549 , 54.38825, 55.5216 , 56.65495,\n",
       "        57.7883 , 58.92165, 60.055  ]),\n",
       " <a list of 20 Patch objects>)"
      ]
     },
     "execution_count": 84,
     "metadata": {},
     "output_type": "execute_result"
    },
    {
     "data": {
      "image/png": "[encoded data removed]",
      "text/plain": [
       "<Figure size 432x288 with 1 Axes>"
      ]
     },
     "metadata": {
      "needs_background": "light"
     },
     "output_type": "display_data"
    }
   ],
   "source": [
    "#히스토그램 생성:x축의 구간 수를 변경 \n",
    "#hist(변수, data)\n",
    "plt.hist(x=\"OXY\",data=df_fitness)\n",
    "\n",
    "#x축 구간(bin) 조정 (상세분포확인)\n",
    "plt.hist(x=\"OXY\",data=df_fitness, bins=20)"
   ]
  },
  {
   "cell_type": "markdown",
   "metadata": {},
   "source": [
    "# BOX PLOT"
   ]
  },
  {
   "cell_type": "code",
   "execution_count": 93,
   "metadata": {},
   "outputs": [
    {
     "data": {
      "text/plain": [
       "<matplotlib.axes._subplots.AxesSubplot at 0x7f90d353dd60>"
      ]
     },
     "execution_count": 93,
     "metadata": {},
     "output_type": "execute_result"
    },
    {
     "name": "stderr",
     "output_type": "stream",
     "text": [
      "/home/piai/anaconda3/lib/python3.8/site-packages/matplotlib/backends/backend_agg.py:214: RuntimeWarning: Glyph 45224 missing from current font.\n",
      "  font.set_text(s, 0.0, flags=flags)\n",
      "/home/piai/anaconda3/lib/python3.8/site-packages/matplotlib/backends/backend_agg.py:214: RuntimeWarning: Glyph 49457 missing from current font.\n",
      "  font.set_text(s, 0.0, flags=flags)\n",
      "/home/piai/anaconda3/lib/python3.8/site-packages/matplotlib/backends/backend_agg.py:214: RuntimeWarning: Glyph 50668 missing from current font.\n",
      "  font.set_text(s, 0.0, flags=flags)\n",
      "/home/piai/anaconda3/lib/python3.8/site-packages/matplotlib/backends/backend_agg.py:183: RuntimeWarning: Glyph 45224 missing from current font.\n",
      "  font.set_text(s, 0, flags=flags)\n",
      "/home/piai/anaconda3/lib/python3.8/site-packages/matplotlib/backends/backend_agg.py:183: RuntimeWarning: Glyph 49457 missing from current font.\n",
      "  font.set_text(s, 0, flags=flags)\n",
      "/home/piai/anaconda3/lib/python3.8/site-packages/matplotlib/backends/backend_agg.py:183: RuntimeWarning: Glyph 50668 missing from current font.\n",
      "  font.set_text(s, 0, flags=flags)\n"
     ]
    },
    {
     "data": {
      "image/png": "[encoded data removed]",
      "text/plain": [
       "<Figure size 432x288 with 1 Axes>"
      ]
     },
     "metadata": {
      "needs_background": "light"
     },
     "output_type": "display_data"
    }
   ],
   "source": [
    "df_fitness.boxplot(column=\"OXY\",by=[\"GENDER\"])"
   ]
  },
  {
   "cell_type": "code",
   "execution_count": 85,
   "metadata": {},
   "outputs": [
    {
     "data": {
      "text/plain": [
       "<matplotlib.axes._subplots.AxesSubplot at 0x7f90dae69e20>"
      ]
     },
     "execution_count": 85,
     "metadata": {},
     "output_type": "execute_result"
    },
    {
     "name": "stderr",
     "output_type": "stream",
     "text": [
      "/home/piai/anaconda3/lib/python3.8/site-packages/matplotlib/backends/backend_agg.py:214: RuntimeWarning: Glyph 45224 missing from current font.\n",
      "  font.set_text(s, 0.0, flags=flags)\n",
      "/home/piai/anaconda3/lib/python3.8/site-packages/matplotlib/backends/backend_agg.py:214: RuntimeWarning: Glyph 49457 missing from current font.\n",
      "  font.set_text(s, 0.0, flags=flags)\n",
      "/home/piai/anaconda3/lib/python3.8/site-packages/matplotlib/backends/backend_agg.py:214: RuntimeWarning: Glyph 45824 missing from current font.\n",
      "  font.set_text(s, 0.0, flags=flags)\n",
      "/home/piai/anaconda3/lib/python3.8/site-packages/matplotlib/backends/backend_agg.py:214: RuntimeWarning: Glyph 50668 missing from current font.\n",
      "  font.set_text(s, 0.0, flags=flags)\n",
      "/home/piai/anaconda3/lib/python3.8/site-packages/matplotlib/backends/backend_agg.py:183: RuntimeWarning: Glyph 45224 missing from current font.\n",
      "  font.set_text(s, 0, flags=flags)\n",
      "/home/piai/anaconda3/lib/python3.8/site-packages/matplotlib/backends/backend_agg.py:183: RuntimeWarning: Glyph 49457 missing from current font.\n",
      "  font.set_text(s, 0, flags=flags)\n",
      "/home/piai/anaconda3/lib/python3.8/site-packages/matplotlib/backends/backend_agg.py:183: RuntimeWarning: Glyph 45824 missing from current font.\n",
      "  font.set_text(s, 0, flags=flags)\n",
      "/home/piai/anaconda3/lib/python3.8/site-packages/matplotlib/backends/backend_agg.py:183: RuntimeWarning: Glyph 50668 missing from current font.\n",
      "  font.set_text(s, 0, flags=flags)\n"
     ]
    },
    {
     "data": {
      "image/png": "[encoded data removed]",
      "text/plain": [
       "<Figure size 432x288 with 1 Axes>"
      ]
     },
     "metadata": {
      "needs_background": "light"
     },
     "output_type": "display_data"
    }
   ],
   "source": [
    "#박스 플랏 생성: 성별+ 연령대 혈당 산소 요구량 분포\n",
    "df_fitness.boxplot(column=\"OXY\",by=[\"GENDER\",\"AGEGROUP\"])"
   ]
  },
  {
   "cell_type": "markdown",
   "metadata": {},
   "source": [
    "# PIE CHART"
   ]
  },
  {
   "cell_type": "code",
   "execution_count": 87,
   "metadata": {},
   "outputs": [
    {
     "data": {
      "text/plain": [
       "<matplotlib.axes._subplots.AxesSubplot at 0x7f90dae5b790>"
      ]
     },
     "execution_count": 87,
     "metadata": {},
     "output_type": "execute_result"
    },
    {
     "name": "stderr",
     "output_type": "stream",
     "text": [
      "/home/piai/anaconda3/lib/python3.8/site-packages/matplotlib/backends/backend_agg.py:214: RuntimeWarning: Glyph 45224 missing from current font.\n",
      "  font.set_text(s, 0.0, flags=flags)\n",
      "/home/piai/anaconda3/lib/python3.8/site-packages/matplotlib/backends/backend_agg.py:214: RuntimeWarning: Glyph 49457 missing from current font.\n",
      "  font.set_text(s, 0.0, flags=flags)\n",
      "/home/piai/anaconda3/lib/python3.8/site-packages/matplotlib/backends/backend_agg.py:214: RuntimeWarning: Glyph 50668 missing from current font.\n",
      "  font.set_text(s, 0.0, flags=flags)\n",
      "/home/piai/anaconda3/lib/python3.8/site-packages/matplotlib/backends/backend_agg.py:183: RuntimeWarning: Glyph 45224 missing from current font.\n",
      "  font.set_text(s, 0, flags=flags)\n",
      "/home/piai/anaconda3/lib/python3.8/site-packages/matplotlib/backends/backend_agg.py:183: RuntimeWarning: Glyph 49457 missing from current font.\n",
      "  font.set_text(s, 0, flags=flags)\n",
      "/home/piai/anaconda3/lib/python3.8/site-packages/matplotlib/backends/backend_agg.py:183: RuntimeWarning: Glyph 50668 missing from current font.\n",
      "  font.set_text(s, 0, flags=flags)\n"
     ]
    },
    {
     "data": {
      "image/png": "[encoded data removed]",
      "text/plain": [
       "<Figure size 432x288 with 1 Axes>"
      ]
     },
     "metadata": {},
     "output_type": "display_data"
    }
   ],
   "source": [
    "#성별 pie chart \n",
    "#groupby(column):column 기준  자료 요약 (size: group별 자료수 )\n",
    "df_count=df_fitness.groupby([\"GENDER\"]).size()\n",
    "\n",
    "#pie(데이터,labels =레이블 변수 지정, autopct=비율%표시 (%.f%%:소수점 1자리 적용)\n",
    "df_count.plot.pie(y=\"OXY\",autopct=\"%.1f%%\")"
   ]
  },
  {
   "cell_type": "code",
   "execution_count": 89,
   "metadata": {},
   "outputs": [
    {
     "data": {
      "text/plain": [
       "<matplotlib.axes._subplots.AxesSubplot at 0x7f90dad61d90>"
      ]
     },
     "execution_count": 89,
     "metadata": {},
     "output_type": "execute_result"
    },
    {
     "data": {
      "image/png": "[encoded data removed]",
      "text/plain": [
       "<Figure size 432x288 with 1 Axes>"
      ]
     },
     "metadata": {},
     "output_type": "display_data"
    }
   ],
   "source": [
    "#groupby(column):column 기준  자료 요약 (size: group별 자료수 )\n",
    "df_count=df_fitness.groupby([\"GENDER\",\"AGEGROUP\"]).size()\n",
    "\n",
    "#pie(데이터,labels =레이블 변수 지정, autopct=비율%표시 (%.f%%:소수점 1자리 적용)\n",
    "df_count.plot.pie(y=\"OXY\",autopct=\"%.1f%%\")"
   ]
  },
  {
   "cell_type": "markdown",
   "metadata": {},
   "source": [
    "# scatter plot"
   ]
  },
  {
   "cell_type": "code",
   "execution_count": 105,
   "metadata": {},
   "outputs": [
    {
     "data": {
      "text/plain": [
       "<matplotlib.axes._subplots.AxesSubplot at 0x7f90cf3ef670>"
      ]
     },
     "execution_count": 105,
     "metadata": {},
     "output_type": "execute_result"
    },
    {
     "data": {
      "image/png": "[encoded data removed]",
      "text/plain": [
       "<Figure size 432x288 with 1 Axes>"
      ]
     },
     "metadata": {
      "needs_background": "light"
     },
     "output_type": "display_data"
    }
   ],
   "source": [
    "sns.scatterplot(x=\"RUNTIME\",y=\"OXY\",data=df_fitness)"
   ]
  },
  {
   "cell_type": "code",
   "execution_count": 90,
   "metadata": {},
   "outputs": [
    {
     "data": {
      "text/plain": [
       "<matplotlib.axes._subplots.AxesSubplot at 0x7f90dac8cf40>"
      ]
     },
     "execution_count": 90,
     "metadata": {},
     "output_type": "execute_result"
    },
    {
     "data": {
      "image/png": "[encoded data removed]",
      "text/plain": [
       "<Figure size 432x288 with 1 Axes>"
      ]
     },
     "metadata": {
      "needs_background": "light"
     },
     "output_type": "display_data"
    }
   ],
   "source": [
    "#scatter plot 생성: 성별로 운동시간과 혈당산소 요구량 \n",
    "#seaborn.scatterplot method이용\n",
    "#scatterplot(x,y,hue:그룹변수,style: 그룹별 marker구분, data)\n",
    "sns.scatterplot(x=\"RUNTIME\",y=\"OXY\",hue=\"GENDER\",style=\"GENDER\",data=df_fitness)\n"
   ]
  },
  {
   "cell_type": "markdown",
   "metadata": {},
   "source": [
    "결과 : 남여 공히, 운동시간이 증가하면서 혈당 산소요구량은 감소하고 있는 패턴을 확인할 수 있음"
   ]
  },
  {
   "cell_type": "markdown",
   "metadata": {},
   "source": [
    "# scatter matrix "
   ]
  },
  {
   "cell_type": "code",
   "execution_count": 91,
   "metadata": {},
   "outputs": [
    {
     "data": {
      "text/plain": [
       "<seaborn.axisgrid.PairGrid at 0x7f90dad4f520>"
      ]
     },
     "execution_count": 91,
     "metadata": {},
     "output_type": "execute_result"
    },
    {
     "data": {
      "image/png": "[encoded data removed]",
      "text/plain": [
       "<Figure size 1260x1260 with 56 Axes>"
      ]
     },
     "metadata": {
      "needs_background": "light"
     },
     "output_type": "display_data"
    }
   ],
   "source": [
    "#scatter matrix 생성\n",
    "#전체 변수간의 관계 scatter matrix 생성\n",
    "#pairplot(데이터):scatter plot 그래프 생성 \n",
    "\n",
    "sns.pairplot(df_fitness)"
   ]
  },
  {
   "cell_type": "code",
   "execution_count": 110,
   "metadata": {},
   "outputs": [
    {
     "data": {
      "text/plain": [
       "<seaborn.axisgrid.PairGrid at 0x7f90cdf5c8b0>"
      ]
     },
     "execution_count": 110,
     "metadata": {},
     "output_type": "execute_result"
    },
    {
     "data": {
      "image/png": "[encoded data removed]",
      "text/plain": [
       "<Figure size 540x180 with 3 Axes>"
      ]
     },
     "metadata": {
      "needs_background": "light"
     },
     "output_type": "display_data"
    }
   ],
   "source": [
    "#y변수:혈당산소 요구량, x변수: 맥박(운동), 맥박(최대), 운동시간 scatter matrix생성\n",
    "#pairplot(데이터,y_vars=y축 변수,x_vars=x축 변수): scatter plot 생성 \n",
    "\n",
    "sns.pairplot(data=df_fitness,y_vars=[\"OXY\"],x_vars=[\"RUNPULSE\",\"MAXPULSE\",\"RUNTIME\"])"
   ]
  },
  {
   "cell_type": "markdown",
   "metadata": {},
   "source": [
    "# TREND chart "
   ]
  },
  {
   "cell_type": "code",
   "execution_count": 95,
   "metadata": {},
   "outputs": [
    {
     "data": {
      "text/html": [
       "<div>\n",
       "<style scoped>\n",
       "    .dataframe tbody tr th:only-of-type {\n",
       "        vertical-align: middle;\n",
       "    }\n",
       "\n",
       "    .dataframe tbody tr th {\n",
       "        vertical-align: top;\n",
       "    }\n",
       "\n",
       "    .dataframe thead th {\n",
       "        text-align: right;\n",
       "    }\n",
       "</style>\n",
       "<table border=\"1\" class=\"dataframe\">\n",
       "  <thead>\n",
       "    <tr style=\"text-align: right;\">\n",
       "      <th>CURRENCY</th>\n",
       "      <th>CNY</th>\n",
       "      <th>JPY</th>\n",
       "      <th>USD</th>\n",
       "    </tr>\n",
       "    <tr>\n",
       "      <th>APPL_DATE</th>\n",
       "      <th></th>\n",
       "      <th></th>\n",
       "      <th></th>\n",
       "    </tr>\n",
       "  </thead>\n",
       "  <tbody>\n",
       "    <tr>\n",
       "      <th>2016-01-01</th>\n",
       "      <td>181.48</td>\n",
       "      <td>976.99</td>\n",
       "      <td>1178.0</td>\n",
       "    </tr>\n",
       "    <tr>\n",
       "      <th>2016-01-02</th>\n",
       "      <td>181.48</td>\n",
       "      <td>976.99</td>\n",
       "      <td>1178.0</td>\n",
       "    </tr>\n",
       "    <tr>\n",
       "      <th>2016-01-03</th>\n",
       "      <td>181.48</td>\n",
       "      <td>976.99</td>\n",
       "      <td>1178.0</td>\n",
       "    </tr>\n",
       "    <tr>\n",
       "      <th>2016-01-04</th>\n",
       "      <td>181.10</td>\n",
       "      <td>992.62</td>\n",
       "      <td>1184.0</td>\n",
       "    </tr>\n",
       "    <tr>\n",
       "      <th>2016-01-05</th>\n",
       "      <td>181.94</td>\n",
       "      <td>993.00</td>\n",
       "      <td>1185.0</td>\n",
       "    </tr>\n",
       "  </tbody>\n",
       "</table>\n",
       "</div>"
      ],
      "text/plain": [
       "CURRENCY       CNY     JPY     USD\n",
       "APPL_DATE                         \n",
       "2016-01-01  181.48  976.99  1178.0\n",
       "2016-01-02  181.48  976.99  1178.0\n",
       "2016-01-03  181.48  976.99  1178.0\n",
       "2016-01-04  181.10  992.62  1184.0\n",
       "2016-01-05  181.94  993.00  1185.0"
      ]
     },
     "execution_count": 95,
     "metadata": {},
     "output_type": "execute_result"
    }
   ],
   "source": [
    "#트렌드 차트생성: 통화별로 매매 기준율 \n",
    "#pivot 활용하여 각국 통화별 데이터 생성 \n",
    "\n",
    "df_currency_pivot=df_currency.pivot(index=\"APPL_DATE\",columns=\"CURRENCY\",values=\"STD_RATE\")\n",
    "df_currency_pivot.head()"
   ]
  },
  {
   "cell_type": "code",
   "execution_count": 96,
   "metadata": {},
   "outputs": [
    {
     "data": {
      "text/plain": [
       "<matplotlib.axes._subplots.AxesSubplot at 0x7f90d3631250>"
      ]
     },
     "execution_count": 96,
     "metadata": {},
     "output_type": "execute_result"
    },
    {
     "data": {
      "image/png": "[encoded data removed]",
      "text/plain": [
       "<Figure size 432x288 with 1 Axes>"
      ]
     },
     "metadata": {
      "needs_background": "light"
     },
     "output_type": "display_data"
    }
   ],
   "source": [
    "# 중국 위안화 별도 그림(엔화, 달러와 단위차이)\n",
    "\n",
    "df_currency_pivot[\"CNY\"].plot()"
   ]
  },
  {
   "cell_type": "code",
   "execution_count": 97,
   "metadata": {},
   "outputs": [
    {
     "data": {
      "text/plain": [
       "<matplotlib.axes._subplots.AxesSubplot at 0x7f90d37e1e20>"
      ]
     },
     "execution_count": 97,
     "metadata": {},
     "output_type": "execute_result"
    },
    {
     "data": {
      "image/png": "[encoded data removed]",
      "text/plain": [
       "<Figure size 432x288 with 1 Axes>"
      ]
     },
     "metadata": {
      "needs_background": "light"
     },
     "output_type": "display_data"
    }
   ],
   "source": [
    "# 일본 엔화, 미국달러 \n",
    "\n",
    "df_currency_pivot[[\"JPY\",\"USD\"]].plot()"
   ]
  },
  {
   "cell_type": "markdown",
   "metadata": {},
   "source": [
    "# HEATMAP"
   ]
  },
  {
   "cell_type": "code",
   "execution_count": 100,
   "metadata": {},
   "outputs": [
    {
     "name": "stderr",
     "output_type": "stream",
     "text": [
      "/home/piai/anaconda3/lib/python3.8/site-packages/matplotlib/backends/backend_agg.py:214: RuntimeWarning: Glyph 45824 missing from current font.\n",
      "  font.set_text(s, 0.0, flags=flags)\n",
      "/home/piai/anaconda3/lib/python3.8/site-packages/matplotlib/backends/backend_agg.py:183: RuntimeWarning: Glyph 45824 missing from current font.\n",
      "  font.set_text(s, 0, flags=flags)\n",
      "/home/piai/anaconda3/lib/python3.8/site-packages/matplotlib/backends/backend_agg.py:214: RuntimeWarning: Glyph 45224 missing from current font.\n",
      "  font.set_text(s, 0.0, flags=flags)\n",
      "/home/piai/anaconda3/lib/python3.8/site-packages/matplotlib/backends/backend_agg.py:214: RuntimeWarning: Glyph 49457 missing from current font.\n",
      "  font.set_text(s, 0.0, flags=flags)\n",
      "/home/piai/anaconda3/lib/python3.8/site-packages/matplotlib/backends/backend_agg.py:214: RuntimeWarning: Glyph 50668 missing from current font.\n",
      "  font.set_text(s, 0.0, flags=flags)\n",
      "/home/piai/anaconda3/lib/python3.8/site-packages/matplotlib/backends/backend_agg.py:183: RuntimeWarning: Glyph 45224 missing from current font.\n",
      "  font.set_text(s, 0, flags=flags)\n",
      "/home/piai/anaconda3/lib/python3.8/site-packages/matplotlib/backends/backend_agg.py:183: RuntimeWarning: Glyph 49457 missing from current font.\n",
      "  font.set_text(s, 0, flags=flags)\n",
      "/home/piai/anaconda3/lib/python3.8/site-packages/matplotlib/backends/backend_agg.py:183: RuntimeWarning: Glyph 50668 missing from current font.\n",
      "  font.set_text(s, 0, flags=flags)\n"
     ]
    },
    {
     "data": {
      "text/plain": [
       "<matplotlib.axes._subplots.AxesSubplot at 0x7f90cf344610>"
      ]
     },
     "execution_count": 100,
     "metadata": {},
     "output_type": "execute_result"
    },
    {
     "data": {
      "image/png": "[encoded data removed]",
      "text/plain": [
       "<Figure size 432x288 with 2 Axes>"
      ]
     },
     "metadata": {
      "needs_background": "light"
     },
     "output_type": "display_data"
    }
   ],
   "source": [
    "#HEATMAP 생성: 성별 연령대별 혈당 산소요구량 \n",
    "df_agg=df_fitness.groupby([\"GENDER\",\"AGEGROUP\"],as_index=False).agg(\"mean\")\n",
    "\n",
    "#pivot(성별, 연령대, 혈당 산소 요구량): X축(연령대), y축(성별), 값(혈당산소요구량의 평균)으로 pivot \n",
    ",data=df_fitness)\n",
    "\n",
    "#heatmap(데이터 , cmap 생성 )\n",
    "sns.heatmap(df_pivot,cmap=\"Blues\")"
   ]
  },
  {
   "cell_type": "markdown",
   "metadata": {},
   "source": [
    "# CONTOUR PLOT"
   ]
  },
  {
   "cell_type": "code",
   "execution_count": 107,
   "metadata": {},
   "outputs": [
    {
     "data": {
      "text/plain": [
       "<matplotlib.axes._subplots.AxesSubplot at 0x7f90cefc0340>"
      ]
     },
     "execution_count": 107,
     "metadata": {},
     "output_type": "execute_result"
    },
    {
     "data": {
      "image/png": "[encoded data removed]",
      "text/plain": [
       "<Figure size 432x288 with 1 Axes>"
      ]
     },
     "metadata": {
      "needs_background": "light"
     },
     "output_type": "display_data"
    }
   ],
   "source": [
    "#CONTOUR PLOT 생성: 운동시간과 혈당 산소 요구량 \n",
    "#Kdeplot(x축,y축,shade:음영 선택 여부 )\n",
    "sns.kdeplot(df_fitness[\"RUNTIME\"],df_fitness[\"OXY\"],shade=False)\n",
    "#파이썬에서는 X,Y축 값에 따른 밀도 수준을 표현"
   ]
  },
  {
   "cell_type": "markdown",
   "metadata": {},
   "source": [
    "# Parallel plot"
   ]
  },
  {
   "cell_type": "code",
   "execution_count": 108,
   "metadata": {},
   "outputs": [
    {
     "data": {
      "text/plain": [
       "<matplotlib.axes._subplots.AxesSubplot at 0x7f90cf0a52b0>"
      ]
     },
     "execution_count": 108,
     "metadata": {},
     "output_type": "execute_result"
    },
    {
     "name": "stderr",
     "output_type": "stream",
     "text": [
      "/home/piai/anaconda3/lib/python3.8/site-packages/matplotlib/backends/backend_agg.py:214: RuntimeWarning: Glyph 50668 missing from current font.\n",
      "  font.set_text(s, 0.0, flags=flags)\n",
      "/home/piai/anaconda3/lib/python3.8/site-packages/matplotlib/backends/backend_agg.py:214: RuntimeWarning: Glyph 49457 missing from current font.\n",
      "  font.set_text(s, 0.0, flags=flags)\n",
      "/home/piai/anaconda3/lib/python3.8/site-packages/matplotlib/backends/backend_agg.py:214: RuntimeWarning: Glyph 45224 missing from current font.\n",
      "  font.set_text(s, 0.0, flags=flags)\n",
      "/home/piai/anaconda3/lib/python3.8/site-packages/matplotlib/backends/backend_agg.py:183: RuntimeWarning: Glyph 50668 missing from current font.\n",
      "  font.set_text(s, 0, flags=flags)\n",
      "/home/piai/anaconda3/lib/python3.8/site-packages/matplotlib/backends/backend_agg.py:183: RuntimeWarning: Glyph 49457 missing from current font.\n",
      "  font.set_text(s, 0, flags=flags)\n",
      "/home/piai/anaconda3/lib/python3.8/site-packages/matplotlib/backends/backend_agg.py:183: RuntimeWarning: Glyph 45224 missing from current font.\n",
      "  font.set_text(s, 0, flags=flags)\n"
     ]
    },
    {
     "data": {
      "image/png": "[encoded data removed]",
      "text/plain": [
       "<Figure size 432x288 with 1 Axes>"
      ]
     },
     "metadata": {
      "needs_background": "light"
     },
     "output_type": "display_data"
    }
   ],
   "source": [
    "#parallel plot 생성: 성별에 따른 혈당 산소 요구량, 몸무게, 휴식시 맥박수\n",
    "#parallel_coordinates(데이터, 그룹 변수 , cols=변수, colormap=다양한 colormap 지정)\n",
    "\n",
    "pd.plotting.parallel_coordinates(df_fitness,\"GENDER\",cols=[\"OXY\",\"WEIGHT\",\"RSTPULSE\"],colormap=\"Accent\")"
   ]
  },
  {
   "cell_type": "markdown",
   "metadata": {},
   "source": [
    "# Customizing"
   ]
  },
  {
   "cell_type": "code",
   "execution_count": 111,
   "metadata": {},
   "outputs": [
    {
     "data": {
      "text/plain": [
       "Text(485.6727272727271, 0.5, '혈당 산소 요구량')"
      ]
     },
     "execution_count": 111,
     "metadata": {},
     "output_type": "execute_result"
    },
    {
     "name": "stderr",
     "output_type": "stream",
     "text": [
      "findfont: Font family ['malgun gothic'] not found. Falling back to DejaVu Sans.\n",
      "/home/piai/anaconda3/lib/python3.8/site-packages/matplotlib/backends/backend_agg.py:214: RuntimeWarning: Glyph 54792 missing from current font.\n",
      "  font.set_text(s, 0.0, flags=flags)\n",
      "/home/piai/anaconda3/lib/python3.8/site-packages/matplotlib/backends/backend_agg.py:214: RuntimeWarning: Glyph 45817 missing from current font.\n",
      "  font.set_text(s, 0.0, flags=flags)\n",
      "/home/piai/anaconda3/lib/python3.8/site-packages/matplotlib/backends/backend_agg.py:214: RuntimeWarning: Glyph 49328 missing from current font.\n",
      "  font.set_text(s, 0.0, flags=flags)\n",
      "/home/piai/anaconda3/lib/python3.8/site-packages/matplotlib/backends/backend_agg.py:214: RuntimeWarning: Glyph 49548 missing from current font.\n",
      "  font.set_text(s, 0.0, flags=flags)\n",
      "/home/piai/anaconda3/lib/python3.8/site-packages/matplotlib/backends/backend_agg.py:214: RuntimeWarning: Glyph 50836 missing from current font.\n",
      "  font.set_text(s, 0.0, flags=flags)\n",
      "/home/piai/anaconda3/lib/python3.8/site-packages/matplotlib/backends/backend_agg.py:214: RuntimeWarning: Glyph 44396 missing from current font.\n",
      "  font.set_text(s, 0.0, flags=flags)\n",
      "/home/piai/anaconda3/lib/python3.8/site-packages/matplotlib/backends/backend_agg.py:214: RuntimeWarning: Glyph 47049 missing from current font.\n",
      "  font.set_text(s, 0.0, flags=flags)\n",
      "/home/piai/anaconda3/lib/python3.8/site-packages/matplotlib/backends/backend_agg.py:214: RuntimeWarning: Glyph 50672 missing from current font.\n",
      "  font.set_text(s, 0.0, flags=flags)\n",
      "/home/piai/anaconda3/lib/python3.8/site-packages/matplotlib/backends/backend_agg.py:214: RuntimeWarning: Glyph 47161 missing from current font.\n",
      "  font.set_text(s, 0.0, flags=flags)\n",
      "/home/piai/anaconda3/lib/python3.8/site-packages/matplotlib/backends/backend_agg.py:214: RuntimeWarning: Glyph 45824 missing from current font.\n",
      "  font.set_text(s, 0.0, flags=flags)\n",
      "/home/piai/anaconda3/lib/python3.8/site-packages/matplotlib/backends/backend_agg.py:214: RuntimeWarning: Glyph 50868 missing from current font.\n",
      "  font.set_text(s, 0.0, flags=flags)\n",
      "/home/piai/anaconda3/lib/python3.8/site-packages/matplotlib/backends/backend_agg.py:214: RuntimeWarning: Glyph 46041 missing from current font.\n",
      "  font.set_text(s, 0.0, flags=flags)\n",
      "/home/piai/anaconda3/lib/python3.8/site-packages/matplotlib/backends/backend_agg.py:214: RuntimeWarning: Glyph 49884 missing from current font.\n",
      "  font.set_text(s, 0.0, flags=flags)\n",
      "/home/piai/anaconda3/lib/python3.8/site-packages/matplotlib/backends/backend_agg.py:214: RuntimeWarning: Glyph 44036 missing from current font.\n",
      "  font.set_text(s, 0.0, flags=flags)\n",
      "/home/piai/anaconda3/lib/python3.8/site-packages/matplotlib/backends/backend_agg.py:214: RuntimeWarning: Glyph 47589 missing from current font.\n",
      "  font.set_text(s, 0.0, flags=flags)\n",
      "/home/piai/anaconda3/lib/python3.8/site-packages/matplotlib/backends/backend_agg.py:214: RuntimeWarning: Glyph 48149 missing from current font.\n",
      "  font.set_text(s, 0.0, flags=flags)\n",
      "/home/piai/anaconda3/lib/python3.8/site-packages/matplotlib/backends/backend_agg.py:183: RuntimeWarning: Glyph 54792 missing from current font.\n",
      "  font.set_text(s, 0, flags=flags)\n",
      "/home/piai/anaconda3/lib/python3.8/site-packages/matplotlib/backends/backend_agg.py:183: RuntimeWarning: Glyph 45817 missing from current font.\n",
      "  font.set_text(s, 0, flags=flags)\n",
      "/home/piai/anaconda3/lib/python3.8/site-packages/matplotlib/backends/backend_agg.py:183: RuntimeWarning: Glyph 49328 missing from current font.\n",
      "  font.set_text(s, 0, flags=flags)\n",
      "/home/piai/anaconda3/lib/python3.8/site-packages/matplotlib/backends/backend_agg.py:183: RuntimeWarning: Glyph 49548 missing from current font.\n",
      "  font.set_text(s, 0, flags=flags)\n",
      "/home/piai/anaconda3/lib/python3.8/site-packages/matplotlib/backends/backend_agg.py:183: RuntimeWarning: Glyph 50836 missing from current font.\n",
      "  font.set_text(s, 0, flags=flags)\n",
      "/home/piai/anaconda3/lib/python3.8/site-packages/matplotlib/backends/backend_agg.py:183: RuntimeWarning: Glyph 44396 missing from current font.\n",
      "  font.set_text(s, 0, flags=flags)\n",
      "/home/piai/anaconda3/lib/python3.8/site-packages/matplotlib/backends/backend_agg.py:183: RuntimeWarning: Glyph 47049 missing from current font.\n",
      "  font.set_text(s, 0, flags=flags)\n",
      "/home/piai/anaconda3/lib/python3.8/site-packages/matplotlib/backends/backend_agg.py:183: RuntimeWarning: Glyph 50672 missing from current font.\n",
      "  font.set_text(s, 0, flags=flags)\n",
      "/home/piai/anaconda3/lib/python3.8/site-packages/matplotlib/backends/backend_agg.py:183: RuntimeWarning: Glyph 47161 missing from current font.\n",
      "  font.set_text(s, 0, flags=flags)\n",
      "/home/piai/anaconda3/lib/python3.8/site-packages/matplotlib/backends/backend_agg.py:183: RuntimeWarning: Glyph 45824 missing from current font.\n",
      "  font.set_text(s, 0, flags=flags)\n",
      "/home/piai/anaconda3/lib/python3.8/site-packages/matplotlib/backends/backend_agg.py:183: RuntimeWarning: Glyph 50868 missing from current font.\n",
      "  font.set_text(s, 0, flags=flags)\n",
      "/home/piai/anaconda3/lib/python3.8/site-packages/matplotlib/backends/backend_agg.py:183: RuntimeWarning: Glyph 46041 missing from current font.\n",
      "  font.set_text(s, 0, flags=flags)\n",
      "/home/piai/anaconda3/lib/python3.8/site-packages/matplotlib/backends/backend_agg.py:183: RuntimeWarning: Glyph 49884 missing from current font.\n",
      "  font.set_text(s, 0, flags=flags)\n",
      "/home/piai/anaconda3/lib/python3.8/site-packages/matplotlib/backends/backend_agg.py:183: RuntimeWarning: Glyph 44036 missing from current font.\n",
      "  font.set_text(s, 0, flags=flags)\n",
      "/home/piai/anaconda3/lib/python3.8/site-packages/matplotlib/backends/backend_agg.py:183: RuntimeWarning: Glyph 47589 missing from current font.\n",
      "  font.set_text(s, 0, flags=flags)\n",
      "/home/piai/anaconda3/lib/python3.8/site-packages/matplotlib/backends/backend_agg.py:183: RuntimeWarning: Glyph 48149 missing from current font.\n",
      "  font.set_text(s, 0, flags=flags)\n"
     ]
    },
    {
     "data": {
      "image/png": "[encoded data removed]",
      "text/plain": [
       "<Figure size 936x720 with 4 Axes>"
      ]
     },
     "metadata": {
      "needs_background": "light"
     },
     "output_type": "display_data"
    }
   ],
   "source": [
    "#대시보드 생성 \n",
    "\n",
    "df_count = df_fitness[\"AGEGROUP\"].value_counts()                 #pie chart를 위한 집계데이터 \n",
    "fig, axes = plt.subplots(nrows=2, ncols=2, figsize=(13, 10))    #(2,2) 4분할 , 4개의 그래프 생성 \n",
    "plt.tight_layout(w_pad=5, h_pad=5)                              # W-pad:열 사이 간격, h_pad: 행 사이의 간격  \n",
    "# Histogram\n",
    "axes[0, 0].hist(df_fitness[\"OXY\"])                              #[0,0]위치에서 히스토그램 생성 \n",
    "axes[0, 0].set_title(\"Histogram\", fontsize=15)                  #제목설정, 글자크기 15\n",
    "axes[0, 0].set_xlabel(\"혈당 산소 요구량\", fontsize=12)             #x축 label 지정 \n",
    "# Pie Chart\n",
    "axes[0, 1].pie(df_count, labels=df_count.index.tolist(), autopct=\"%.1f%%\")#[0,1]위치에 pie chart 생성 \n",
    "axes[0, 1].set_title(\"Pie Chart\", fontsize=15)\n",
    "axes[0, 1].set_xlabel(\"연령대\", fontsize=12)\n",
    "# Trend\n",
    "axes[1, 0].plot(\"RUNTIME\", \"RUNPULSE\", data=df_fitness, label=\"맥박(운동)\")#[1,0] x축 :운동시간,y축 :맥박(운동)\n",
    "axes[1, 0].plot(\"RUNTIME\", \"OXY\", data=df_fitness, label=\"혈당 산소 요구량\")#X축:운동시간, Y축:산소요구량 \n",
    "axes[1, 0].set_title(\"Trend\", fontsize=15)\n",
    "axes[1, 0].set_xlabel(\"운동 시간\", fontsize=12)\n",
    "axes[1, 0].legend()\n",
    "# Scatter\n",
    "axes[1, 1].scatter(\"RUNPULSE\", \"OXY\", data=df_fitness)#[1,1]위치에 산점도 표시,X축: 맥박(운동), y축 :산소요구량 \n",
    "axes[1, 1].set_title(\"Scatter\", fontsize=15)\n",
    "axes[1, 1].set_xlabel(\"맥박(운동)\", fontsize=12)\n",
    "axes[1, 1].set_ylabel(\"혈당 산소 요구량\", fontsize=12)"
   ]
  },
  {
   "cell_type": "code",
   "execution_count": null,
   "metadata": {},
   "outputs": [],
   "source": []
  },
  {
   "cell_type": "code",
   "execution_count": null,
   "metadata": {},
   "outputs": [],
   "source": []
  },
  {
   "cell_type": "code",
   "execution_count": null,
   "metadata": {},
   "outputs": [],
   "source": []
  },
  {
   "cell_type": "code",
   "execution_count": null,
   "metadata": {},
   "outputs": [],
   "source": []
  },
  {
   "cell_type": "code",
   "execution_count": null,
   "metadata": {},
   "outputs": [],
   "source": []
  },
  {
   "cell_type": "code",
   "execution_count": null,
   "metadata": {},
   "outputs": [],
   "source": []
  },
  {
   "cell_type": "code",
   "execution_count": null,
   "metadata": {},
   "outputs": [],
   "source": []
  },
  {
   "cell_type": "code",
   "execution_count": null,
   "metadata": {},
   "outputs": [],
   "source": []
  },
  {
   "cell_type": "code",
   "execution_count": null,
   "metadata": {},
   "outputs": [],
   "source": []
  },
  {
   "cell_type": "code",
   "execution_count": null,
   "metadata": {},
   "outputs": [],
   "source": []
  }
 ],
 "metadata": {
  "kernelspec": {
   "display_name": "Python 3",
   "language": "python",
   "name": "python3"
  },
  "language_info": {
   "codemirror_mode": {
    "name": "ipython",
    "version": 3
   },
   "file_extension": ".py",
   "mimetype": "text/x-python",
   "name": "python",
   "nbconvert_exporter": "python",
   "pygments_lexer": "ipython3",
   "version": "3.8.3"
  }
 },
 "nbformat": 4,
 "nbformat_minor": 4
}
