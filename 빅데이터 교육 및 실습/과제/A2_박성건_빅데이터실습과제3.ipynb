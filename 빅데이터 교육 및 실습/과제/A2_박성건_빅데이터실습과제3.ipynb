{
 "cells": [
  {
   "cell_type": "markdown",
   "metadata": {},
   "source": [
    "# 11월 11일 수요일 실습과제\n",
    "\n",
    "# 카이제곱 검정 ~선형회귀분석"
   ]
  },
  {
   "cell_type": "code",
   "execution_count": 55,
   "metadata": {},
   "outputs": [],
   "source": [
    "import pandas as pd\n",
    "import statsmodels.api as sm\n",
    "import numpy as np\n",
    "import matplotlib\n",
    "import matplotlib.pyplot as plt\n",
    "from scipy.stats import shapiro\n",
    "import statsmodels.formula.api as smf\n",
    "import seaborn as sns\n",
    "from scipy import stats\n",
    "import scipy.stats\n",
    "from statsmodels.stats.proportion import proportions_ztest\n",
    "from scipy.stats import chi2_contingency\n",
    "from statsmodels.stats.anova import anova_lm\n",
    "from statsmodels.formula.api import ols\n",
    "\n",
    "\n",
    "%matplotlib inline\n",
    "matplotlib.rc('font', family='Malgun Gothic')\n",
    "plt.rc('font', family ='Malgun Gothic')"
   ]
  },
  {
   "cell_type": "code",
   "execution_count": 56,
   "metadata": {},
   "outputs": [
    {
     "name": "stdout",
     "output_type": "stream",
     "text": [
      "chi-square test\n",
      "chisq:98.274\n",
      "p:0.000\n",
      "degree of freedom:30\n",
      "expected value \n",
      "[[11.004  8.528 10.454  8.253  7.978  8.803  7.978]\n",
      " [ 8.21   6.362  7.799  6.157  5.952  6.568  5.952]\n",
      " [ 5.24   4.061  4.978  3.93   3.799  4.192  3.799]\n",
      " [ 3.843  2.978  3.651  2.882  2.786  3.074  2.786]\n",
      " [ 1.921  1.489  1.825  1.441  1.393  1.537  1.393]\n",
      " [ 9.782  7.581  9.293  7.336  7.092  7.825  7.092]]\n"
     ]
    }
   ],
   "source": [
    "df = pd.DataFrame({'A':[18,1,8,7,10,9,10], 'B':[8,2,14,5,5,9,4],'C':[4,1,3,4,9,5,4],\n",
    "                  \"D\":[4,1,2,3,2,7,3],'E':[3,1,3,1,1,1,1],\"F\":[3,25,8,10,2,1,7]})\n",
    "\n",
    "chi, pval, dof, expected = stats.chi2_contingency(df.T)\n",
    "\n",
    "print(\"chi-square test\")\n",
    "print(\"chisq:{0:0.3f}\".format(chi))\n",
    "print(\"p:{0:0.3f}\".format(pval))\n",
    "print(\"degree of freedom:{}\".format(dof))\n",
    "print(\"expected value \\n{}\".format(expected.round(3)))\n",
    "\n",
    "# p-value가 유의 수준인 0.5보다 작기때문에 귀무가설을 기각하고 대립가설을 채택\n",
    "# 즉 제품 A,B,C,D,E,F 별로 차이가 있다.\n"
   ]
  },
  {
   "cell_type": "markdown",
   "metadata": {},
   "source": [
    "# One way ANOVA 실습"
   ]
  },
  {
   "cell_type": "code",
   "execution_count": 62,
   "metadata": {},
   "outputs": [
    {
     "name": "stdout",
     "output_type": "stream",
     "text": [
      "            df      sum_sq    mean_sq         F    PR(>F)\n",
      "gangjong   3.0  104.603333  34.867778  4.171868  0.019013\n",
      "Residual  20.0  167.156667   8.357833       NaN       NaN\n"
     ]
    }
   ],
   "source": [
    "df = pd.read_csv(\"/home/piai/bigdata/data/ANOVA.csv\",engine='python')\n",
    "df.head()\n",
    "\n",
    "formula = 'time ~ gangjong'\n",
    "\n",
    "lm = smf.ols(formula, df).fit()\n",
    "\n",
    "print(anova_lm(lm))\n",
    "\n",
    "#강종별 2차정련 시간을 One way ANOVA로 분석한 결과\n",
    "#p-value 0.019으로 0.05이하로 강종별로 차이가 있다.\n"
   ]
  },
  {
   "cell_type": "markdown",
   "metadata": {},
   "source": [
    "# 상관분석 실습"
   ]
  },
  {
   "cell_type": "code",
   "execution_count": 63,
   "metadata": {},
   "outputs": [
    {
     "name": "stdout",
     "output_type": "stream",
     "text": [
      "Correiation Analysis\n",
      "corr: -0.899\n",
      "p-value : 0.000\n"
     ]
    }
   ],
   "source": [
    "df=pd.read_csv(\"/home/piai/bigdata/data/correaltion.csv\", engine ='python')\n",
    "df.head()\n",
    "\n",
    "corr, pval = stats.pearsonr(df[\"temp\"],df[\"strength\"])\n",
    "\n",
    "print(\"Correiation Analysis\")\n",
    "print(\"corr: {0:0.3f}\".format(corr))\n",
    "print('p-value : {0:0.3f}'.format(pval))\n",
    "\n",
    "\n",
    "#쿠키 반죽의 온도와 초코칩 강도는 상관계수인 corr을 보면 -0.899로\n",
    "#강한 음의 상관관계가 있는것을 확인할 수 있다.\n"
   ]
  },
  {
   "cell_type": "markdown",
   "metadata": {},
   "source": [
    "# 단순선형회귀 1 실습"
   ]
  },
  {
   "cell_type": "code",
   "execution_count": 64,
   "metadata": {},
   "outputs": [
    {
     "name": "stdout",
     "output_type": "stream",
     "text": [
      "                            OLS Regression Results                            \n",
      "==============================================================================\n",
      "Dep. Variable:               strength   R-squared:                       0.933\n",
      "Model:                            OLS   Adj. R-squared:                  0.932\n",
      "Method:                 Least Squares   F-statistic:                     1169.\n",
      "Date:                Wed, 11 Nov 2020   Prob (F-statistic):           4.60e-51\n",
      "Time:                        19:54:26   Log-Likelihood:                -107.75\n",
      "No. Observations:                  86   AIC:                             219.5\n",
      "Df Residuals:                      84   BIC:                             224.4\n",
      "Df Model:                           1                                         \n",
      "Covariance Type:            nonrobust                                         \n",
      "==============================================================================\n",
      "                 coef    std err          t      P>|t|      [0.025      0.975]\n",
      "------------------------------------------------------------------------------\n",
      "const          2.1034      0.885      2.377      0.020       0.343       3.863\n",
      "b_time        44.5520      1.303     34.186      0.000      41.960      47.144\n",
      "==============================================================================\n",
      "Omnibus:                        5.137   Durbin-Watson:                   1.395\n",
      "Prob(Omnibus):                  0.077   Jarque-Bera (JB):                2.908\n",
      "Skew:                           0.228   Prob(JB):                        0.234\n",
      "Kurtosis:                       2.223   Cond. No.                         20.6\n",
      "==============================================================================\n",
      "\n",
      "Warnings:\n",
      "[1] Standard Errors assume that the covariance matrix of the errors is correctly specified.\n"
     ]
    }
   ],
   "source": [
    "df_raw = pd.read_csv(\"/home/piai/bigdata/data/correaltion.csv\", engine = 'python')\n",
    "df_raw.head()\n",
    "\n",
    "strength = df_raw['strength']\n",
    "b_time= df_raw['b_time']\n",
    "\n",
    "b_time = sm.add_constant(b_time)\n",
    "model = sm.OLS(strength,b_time)\n",
    "result = model.fit()\n",
    "print(result.summary())\n",
    "\n",
    "# R-squared 값이 0.933으로 데이터분석모델이 적합하다는것을 알 수 있다.\n",
    "# 또한 strength = 44.5520*b_time + 2.1034 라는 수식을 얻을 수 있다."
   ]
  },
  {
   "cell_type": "markdown",
   "metadata": {},
   "source": [
    "# 단순선형회귀 2 "
   ]
  },
  {
   "cell_type": "code",
   "execution_count": 66,
   "metadata": {},
   "outputs": [
    {
     "name": "stdout",
     "output_type": "stream",
     "text": [
      "                            OLS Regression Results                            \n",
      "==============================================================================\n",
      "Dep. Variable:               strength   R-squared:                       0.001\n",
      "Model:                            OLS   Adj. R-squared:                 -0.011\n",
      "Method:                 Least Squares   F-statistic:                    0.1136\n",
      "Date:                Wed, 11 Nov 2020   Prob (F-statistic):              0.737\n",
      "Time:                        19:55:43   Log-Likelihood:                -223.88\n",
      "No. Observations:                  86   AIC:                             451.8\n",
      "Df Residuals:                      84   BIC:                             456.7\n",
      "Df Model:                           1                                         \n",
      "Covariance Type:            nonrobust                                         \n",
      "==============================================================================\n",
      "                 coef    std err          t      P>|t|      [0.025      0.975]\n",
      "------------------------------------------------------------------------------\n",
      "Intercept     30.4190      5.271      5.771      0.000      19.936      40.902\n",
      "Oven_TMP       0.0056      0.017      0.337      0.737      -0.027       0.038\n",
      "==============================================================================\n",
      "Omnibus:                       15.278   Durbin-Watson:                   0.175\n",
      "Prob(Omnibus):                  0.000   Jarque-Bera (JB):                8.264\n",
      "Skew:                           0.581   Prob(JB):                       0.0160\n",
      "Kurtosis:                       2.023   Cond. No.                     4.71e+03\n",
      "==============================================================================\n",
      "\n",
      "Warnings:\n",
      "[1] Standard Errors assume that the covariance matrix of the errors is correctly specified.\n",
      "[2] The condition number is large, 4.71e+03. This might indicate that there are\n",
      "strong multicollinearity or other numerical problems.\n"
     ]
    }
   ],
   "source": [
    "df_raw = pd.read_csv(\"/home/piai/bigdata/data/correaltion.csv\", engine = 'python')\n",
    "df_raw.head()\n",
    "\n",
    "reg_model = smf.ols(\"strength ~ Oven_TMP\", data = df_raw)\n",
    "reg_result = reg_model.fit()\n",
    "\n",
    "print(reg_result.summary())\n",
    "\n",
    "#\n",
    "#회귀 분석식 R-squared값이 0.001로 분석모델이 적합하지 않다.\n",
    "# 회귀 식은 strength = 30.4190 + 0.0056*Oven_TMP 이다\n",
    "\n",
    "\n"
   ]
  }
 ],
 "metadata": {
  "kernelspec": {
   "display_name": "Python 3",
   "language": "python",
   "name": "python3"
  },
  "language_info": {
   "codemirror_mode": {
    "name": "ipython",
    "version": 3
   },
   "file_extension": ".py",
   "mimetype": "text/x-python",
   "name": "python",
   "nbconvert_exporter": "python",
   "pygments_lexer": "ipython3",
   "version": "3.8.3"
  }
 },
 "nbformat": 4,
 "nbformat_minor": 4
}
